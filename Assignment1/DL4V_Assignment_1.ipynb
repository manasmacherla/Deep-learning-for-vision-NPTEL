{
  "nbformat": 4,
  "nbformat_minor": 0,
  "metadata": {
    "colab": {
      "name": "DL4V Assignment 1",
      "provenance": [],
      "collapsed_sections": [],
      "toc_visible": true
    },
    "kernelspec": {
      "name": "python3",
      "display_name": "Python 3"
    }
  },
  "cells": [
    {
      "cell_type": "markdown",
      "metadata": {
        "id": "dfwHiy6Ouw47",
        "colab_type": "text"
      },
      "source": [
        "#### **Welcome to Assignment 1 on Deep Learning for Computer Vision.**\n",
        "In this assignment you will get a chance to implement basic Image processing tasks like Correlation, Convolution, Edge Detection etc.\n",
        "\n",
        "#### **Instructions**\n",
        "1. Use Python 3.x to run this notebook\n",
        "2. Write your code only in between the lines 'YOUR CODE STARTS HERE' and 'YOUR CODE ENDS HERE'.\n",
        "you sould not change anything else code cells, if you do, the answers you are supposed to get at the end of this assignment might be wrong.\n",
        "3. Read documentation of each function carefully.\n",
        "4. All the best!"
      ]
    },
    {
      "cell_type": "code",
      "metadata": {
        "id": "kuZ6SrRAt5q6",
        "colab_type": "code",
        "colab": {}
      },
      "source": [
        "# Imports\n",
        "import numpy as np\n",
        "import matplotlib.pyplot as plt\n",
        "from PIL import Image\n",
        "\n",
        "# %matplotlib inline uncomment this line if you're running this notebook on your local PC"
      ],
      "execution_count": null,
      "outputs": []
    },
    {
      "cell_type": "code",
      "metadata": {
        "id": "JRuDdi1Bu6v6",
        "colab_type": "code",
        "colab": {}
      },
      "source": [
        "# DO NOT CHANGE THIS CODE\n",
        "np.random.seed(0)"
      ],
      "execution_count": null,
      "outputs": []
    },
    {
      "cell_type": "code",
      "metadata": {
        "id": "lD4QgdL1u8z8",
        "colab_type": "code",
        "colab": {}
      },
      "source": [
        "def standardize(image):\n",
        "    eps = 1e-5  # some fields have all 255 so variance will be 0, to avoid division by zero, introduced eps\n",
        "    return (image - np.mean(image))/(np.std(image)+eps)"
      ],
      "execution_count": null,
      "outputs": []
    },
    {
      "cell_type": "code",
      "metadata": {
        "id": "UhLEA7p4vCgr",
        "colab_type": "code",
        "colab": {}
      },
      "source": [
        "# Implement Linear Filtering technique on an image using a linear filter\n",
        "def linear_filter(image, filter_): # 'filter' is a keyword in python, so is the underscore at the end.\n",
        "    \"\"\"\n",
        "    Performs linear filtering on an image.\n",
        "    Assume image size is W1xW2, filter size is F1xF2.\n",
        "    \n",
        "    Arguments:\n",
        "    image -- input image possibly with 3 channels(RGB).\n",
        "    filter_ -- linear filter to apply on image.\n",
        "    \n",
        "    Returns:\n",
        "    result -- filtered image. \n",
        "    \"\"\"\n",
        "    # DO NOT CHAGE THIS CODE    \n",
        "    image = np.array(image.convert('L')) # converts image to gray scale, so that it is easy to apply filter\n",
        "    image_height, image_width = image.shape[0], image.shape[1]\n",
        "\n",
        "    filter_ = np.array(filter_.convert('L'))\n",
        "    filter_height, filter_width = filter_.shape[0], filter_.shape[1]\n",
        "\n",
        "    # result shape will be of size --> (((W1−F1+2P) / S) + 1) x (((W2−F2+2P) / S) + 1), where 'P' is padding length\n",
        "    # S is stride length, if you don't know about them, don't worry, you will learn in upcoming lectures.For now\n",
        "    # we will use simplest setting P=0,S=1. See the next line.\n",
        "\n",
        "    result_height, result_width = (image_height - filter_height) + 1, (image_width - filter_width) + 1\n",
        "    result = np.array([[0 for j in range(result_width)] for i in range(result_height)])\n",
        "    # YOUR CODE STARTS HERE\n",
        "\n",
        "    # YOUR CODE ENDS HERE\n",
        "    return result\n",
        "    "
      ],
      "execution_count": null,
      "outputs": []
    },
    {
      "cell_type": "code",
      "metadata": {
        "id": "DJ3ViEWTvFL7",
        "colab_type": "code",
        "colab": {}
      },
      "source": [
        "# To test your implementation, run the below code.\n",
        "image = Image.open('./images/car_road.jpg')\n",
        "filter_ = Image.open('./images/car.jpg')\n",
        "result = linear_filter(image, filter_)"
      ],
      "execution_count": null,
      "outputs": []
    },
    {
      "cell_type": "code",
      "metadata": {
        "id": "Z6OXE0U0vInq",
        "colab_type": "code",
        "colab": {}
      },
      "source": [
        "plt.imshow(result)\n",
        "plt.title('Filtered Image')\n",
        "plt.show()"
      ],
      "execution_count": null,
      "outputs": []
    },
    {
      "cell_type": "markdown",
      "metadata": {
        "id": "F2hhsMGjvUNy",
        "colab_type": "text"
      },
      "source": [
        "### Question 1\n",
        "\n",
        "Where do you find the bright spot in the image displayed above? (*Hint:* Find the co-ordinates of the maximum value in the output array  )\n",
        "\n",
        "1. $(143, 49)$\n",
        "2. $(134, 47)$\n",
        "3. $(130, 33)$\n",
        "4. $(126, 50)$"
      ]
    },
    {
      "cell_type": "code",
      "metadata": {
        "id": "-xhqFru7w6Fm",
        "colab_type": "code",
        "colab": {}
      },
      "source": [
        "# To test your implementation, run the below code.\n",
        "image = Image.open('./images/hills.jpeg')\n",
        "filter_ = Image.open('./images/template.png')\n",
        "result = linear_filter(image, filter_)"
      ],
      "execution_count": null,
      "outputs": []
    },
    {
      "cell_type": "code",
      "metadata": {
        "id": "iowimfTwxA1v",
        "colab_type": "code",
        "colab": {}
      },
      "source": [
        "plt.imshow(result)\n",
        "plt.title('Filtered Image')\n",
        "plt.show()"
      ],
      "execution_count": null,
      "outputs": []
    },
    {
      "cell_type": "markdown",
      "metadata": {
        "id": "wlyC9FBb0p5F",
        "colab_type": "text"
      },
      "source": [
        "### Question 2\n",
        "\n",
        "Where do you find the bright spot in the image displayed above? (*Hint:* Find the co-ordinates of the maximum value in the output array  )\n",
        "\n",
        "1. $(2, 130)$\n",
        "2. $(25, 118)$\n",
        "3. $(0, 137)$\n",
        "4. $(42, 115)$"
      ]
    },
    {
      "cell_type": "code",
      "metadata": {
        "id": "A_iFylRJ0EdZ",
        "colab_type": "code",
        "colab": {}
      },
      "source": [
        "# Implement Convolution on an image using a filter/kernel\n",
        "def convolution2D(image, kernel):\n",
        "    \"\"\"\n",
        "    Performs convolution on an image using a kernel.\n",
        "    \n",
        "    Arguments:\n",
        "    image -- 2D matrix representing image.\n",
        "    kernel -- kernel to apply on image.\n",
        "    \n",
        "    Returns:\n",
        "    result -- filtered image. \n",
        "    \"\"\"\n",
        "    # YOUR CODE STARTS HERE\n",
        "    \n",
        "    # YOUR CODE ENDS HERE\n",
        "    return result"
      ],
      "execution_count": null,
      "outputs": []
    },
    {
      "cell_type": "code",
      "metadata": {
        "id": "pmEBuwDt22co",
        "colab_type": "code",
        "colab": {}
      },
      "source": [
        "# To test your implementation, run the below code.\n",
        "image = Image.open('./images/car_road.jpg')\n",
        "filter_ = Image.open('./images/car.jpg')\n",
        "result = convolution2D(image, filter_)"
      ],
      "execution_count": null,
      "outputs": []
    },
    {
      "cell_type": "code",
      "metadata": {
        "id": "HEKRLmU14jqS",
        "colab_type": "code",
        "colab": {}
      },
      "source": [
        "plt.imshow(result)\n",
        "plt.title('Filtered Image')\n",
        "plt.show()"
      ],
      "execution_count": null,
      "outputs": []
    },
    {
      "cell_type": "markdown",
      "metadata": {
        "id": "bNk7L-am5fEa",
        "colab_type": "text"
      },
      "source": [
        "### Question 3\n",
        "\n",
        "What are index of the min and max values in the above image?\n",
        "\n",
        "1. $(43, 134), (200, 54)$\n",
        "2. $(38, 142), (215, 61)$\n",
        "3. $(30, 118), (198, 54)$\n",
        "4. $(44, 142), (220, 43)$"
      ]
    },
    {
      "cell_type": "code",
      "metadata": {
        "id": "EuPkCPvo4nDR",
        "colab_type": "code",
        "colab": {}
      },
      "source": [
        "# To test your implementation, run the below code.\n",
        "image = Image.open('./images/hills.jpeg')\n",
        "filter_ = Image.open('./images/template.png')\n",
        "result = convolution2D(image, filter_)"
      ],
      "execution_count": null,
      "outputs": []
    },
    {
      "cell_type": "code",
      "metadata": {
        "id": "SLK_Pvyq8B1D",
        "colab_type": "code",
        "colab": {}
      },
      "source": [
        "plt.imshow(result)\n",
        "plt.title('Filtered Image')\n",
        "plt.show()"
      ],
      "execution_count": null,
      "outputs": []
    },
    {
      "cell_type": "markdown",
      "metadata": {
        "id": "FrzVPF6D7YFO",
        "colab_type": "text"
      },
      "source": [
        "### Question 4\n",
        "\n",
        "What are index of the min and max values in the above image?\n",
        "\n",
        "1. $(15, 28), (18, 89)$\n",
        "2. $(0, 27), (22, 98)$\n",
        "3. $(4, 17), (14, 70)$\n",
        "4. $(7, 42), (10, 89)$"
      ]
    },
    {
      "cell_type": "markdown",
      "metadata": {
        "id": "QVifPhKEsfiL",
        "colab_type": "text"
      },
      "source": [
        "## Sobel and Laplace Filters"
      ]
    },
    {
      "cell_type": "markdown",
      "metadata": {
        "id": "PoPmRwH7PhDK",
        "colab_type": "text"
      },
      "source": [
        "### Question 5: \n",
        "In this question you'll have to apply a Sobel Filter to the provided image and report the index of min and max value of the final output.\n",
        "\n",
        "1. $(52, 147), (111, 26)$\n",
        "2. $(50, 134), (100, 31)$\n",
        "3. $(56, 152), (116, 18)$\n",
        "4. $(51, 143), (114, 24)$\n"
      ]
    },
    {
      "cell_type": "code",
      "metadata": {
        "id": "QinuVnQRJDMX",
        "colab_type": "code",
        "colab": {}
      },
      "source": [
        "\n",
        "import numpy as np\n",
        "from PIL import Image\n",
        "\n",
        "image = Image.open('./images/clown.png')\n",
        "\n",
        "###YOUR CODE STARTS HERE\n",
        "\n",
        "# Define 3*3 Vertical sobel filter (Hint: refer lecture slides)\n",
        "sobel_v = \n",
        "\n",
        "#Define 3*3 Horizontal sobel filter (Hint: refer lecture slides)\n",
        "sobel_h = \n",
        "\n",
        "#compute vertical response using convolution2D function\n",
        "response_v = \n",
        "\n",
        "#compute horizontal response using convolution2D function\n",
        "response_h = \n",
        "\n",
        "#compute final response\n",
        "# G = |G_x| + |G_y|\n",
        "G = \n",
        "\n",
        "#compute index of min and max value of G\n",
        "\n",
        "\n",
        "###YOUR CODE ENDS HERE"
      ],
      "execution_count": null,
      "outputs": []
    },
    {
      "cell_type": "markdown",
      "metadata": {
        "id": "MDrOxGoXRIfv",
        "colab_type": "text"
      },
      "source": [
        "### Question 6\n",
        "\n",
        "What are index of the min and max values of the Laplace Filter response to the provided image?\n",
        "\n",
        "1. $(4, 117), (111, 26)$\n",
        "2. $(13, 134), (100, 31)$\n",
        "3. $(6, 108), (111, 26)$\n",
        "4. $(10, 104), (106, 22)$"
      ]
    },
    {
      "cell_type": "code",
      "metadata": {
        "id": "keTqFJ_kJ-Ls",
        "colab_type": "code",
        "colab": {}
      },
      "source": [
        "\n",
        "import numpy as np\n",
        "from PIL import Image\n",
        "\n",
        "image = Image.open('./images/clown.png')\n",
        "\n",
        "###YOUR CODE STARTS HERE\n",
        "\n",
        "# Define 3*3 Laplace filter (Hint: refer lecture slides)\n",
        "laplacian_filter = \n",
        "\n",
        "#compute response using convolution2D function\n",
        "response_L = \n",
        "\n",
        "#compute index of min and max value of Laplace Filter response\n",
        "\n",
        "###YOUR CODE ENDS HERE"
      ],
      "execution_count": null,
      "outputs": []
    },
    {
      "cell_type": "code",
      "metadata": {
        "id": "GoK156ZbMJjO",
        "colab_type": "code",
        "colab": {}
      },
      "source": [
        ""
      ],
      "execution_count": null,
      "outputs": []
    }
  ]
}