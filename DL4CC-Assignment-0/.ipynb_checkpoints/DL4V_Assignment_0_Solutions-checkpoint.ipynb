{
 "cells": [
  {
   "cell_type": "markdown",
   "metadata": {
    "colab_type": "text",
    "id": "Sdf6X2hjDNFA"
   },
   "source": [
    "#### **Welcome to Assignment 0 on Deep Learning for Computer Vision.**\n",
    "In this assignment you will get a chance to understand and work on some of the commonly used functionalities of several Machine Learnign and Data Analysis libraries\n",
    "\n",
    "#### **Instructions**\n",
    "1. Use Python 3.x to run this notebook\n",
    "2. Write your code only in between the lines 'YOUR CODE STARTS HERE' and 'YOUR CODE ENDS HERE'.\n",
    "3. Look up the documentation for each of the Python and Numpy function used.\n",
    "4. This Assignment is just to make you understand several commonly used library functions.\n",
    "5. This assignment is **NOT** evaluated"
   ]
  },
  {
   "cell_type": "code",
   "execution_count": 1,
   "metadata": {
    "colab": {},
    "colab_type": "code",
    "id": "9LTkyyoa9Q2K"
   },
   "outputs": [],
   "source": [
    "# DO NOT CHANGE THIS CODE\n",
    "import numpy as np\n",
    "np.random.seed(0)"
   ]
  },
  {
   "cell_type": "markdown",
   "metadata": {
    "colab_type": "text",
    "id": "8koNOLdwDSf_"
   },
   "source": [
    "#### Python Basics\n"
   ]
  },
  {
   "cell_type": "code",
   "execution_count": 2,
   "metadata": {
    "colab": {},
    "colab_type": "code",
    "id": "SqufR0fDDT9s"
   },
   "outputs": [],
   "source": [
    "### Implement recursive fibonacci in the function below\n",
    "def recursive_fibonacci(n):\n",
    "  ## YOUR CODE STARTS HERE\n",
    "   if n <= 1:\n",
    "       return n\n",
    "   else:\n",
    "       return(recursive_fibonacci(n-1) + recursive_fibonacci(n-2))\n",
    "  ## YOUR CODE ENDS HERE"
   ]
  },
  {
   "cell_type": "code",
   "execution_count": 3,
   "metadata": {
    "colab": {
     "base_uri": "https://localhost:8080/",
     "height": 34
    },
    "colab_type": "code",
    "id": "rncsA0RIDTdJ",
    "outputId": "20de7029-8956-4f09-b736-f85feba07c78"
   },
   "outputs": [
    {
     "data": {
      "text/plain": [
       "2"
      ]
     },
     "execution_count": 3,
     "metadata": {},
     "output_type": "execute_result"
    }
   ],
   "source": [
    "### Test your code using the function call below.\n",
    "recursive_fibonacci(3)"
   ]
  },
  {
   "cell_type": "markdown",
   "metadata": {
    "colab_type": "text",
    "id": "V0vcbpLPDXNw"
   },
   "source": [
    "#### Lambda function"
   ]
  },
  {
   "cell_type": "code",
   "execution_count": 4,
   "metadata": {
    "colab": {},
    "colab_type": "code",
    "id": "r0eP5yH9DYum"
   },
   "outputs": [],
   "source": [
    "def sigmoid(x):\n",
    "  sigmoid = 1 / (1 + np.exp(-x))\n",
    "  return sigmoid\n",
    "\n",
    "## Implement the above sigmoid function using python lambda functions\n",
    "## YOUR CODE STARTS HERE\n",
    "sigmoid_lambda = lambda x: 1 / (1 + np.exp(-x))\n",
    "## YOUR CODE ENDS HERE"
   ]
  },
  {
   "cell_type": "code",
   "execution_count": 5,
   "metadata": {
    "colab": {},
    "colab_type": "code",
    "id": "Wt913eQEKp81"
   },
   "outputs": [
    {
     "data": {
      "text/plain": [
       "True"
      ]
     },
     "execution_count": 5,
     "metadata": {},
     "output_type": "execute_result"
    }
   ],
   "source": [
    "## Check you implementation by running this cell (should return True)\n",
    "sigmoid(1) == sigmoid_lambda(1)"
   ]
  },
  {
   "cell_type": "markdown",
   "metadata": {
    "colab_type": "text",
    "id": "VpfxvB4pKyrm"
   },
   "source": [
    "#### List Comprehension"
   ]
  },
  {
   "cell_type": "code",
   "execution_count": 6,
   "metadata": {
    "colab": {},
    "colab_type": "code",
    "id": "336h3e1fKt1h"
   },
   "outputs": [],
   "source": [
    "div_by_four = []\n",
    "for number in range(200):\n",
    "    if number%4 == 0:\n",
    "        div_by_four.append(number)\n",
    "        \n",
    "## Implement the above function using list comprehensions\n",
    "## YOUR CODE STARTS HERE\n",
    "div_by_four_lc = [number for number in range(200) if number%4 == 0]\n",
    "## YOUR CODE ENDS HERE"
   ]
  },
  {
   "cell_type": "code",
   "execution_count": 7,
   "metadata": {
    "colab": {},
    "colab_type": "code",
    "id": "sJbe5xkNKvof"
   },
   "outputs": [
    {
     "data": {
      "text/plain": [
       "True"
      ]
     },
     "execution_count": 7,
     "metadata": {},
     "output_type": "execute_result"
    }
   ],
   "source": [
    "## Check you implementation by running this cell (should return True)\n",
    "div_by_four == div_by_four_lc"
   ]
  },
  {
   "cell_type": "markdown",
   "metadata": {
    "colab_type": "text",
    "id": "CnmH9QeBDdqo"
   },
   "source": [
    "#### Python map keyword\n",
    "Using the lambda functions and python's map keyword apply sigmoid on a list of numbers from 0 to 99. Store the output in a list and print it. \n",
    "\n",
    "**Observe what happens to the value of sigmoid as the value of x increases. Do you see any trend?**"
   ]
  },
  {
   "cell_type": "code",
   "execution_count": 8,
   "metadata": {
    "colab": {},
    "colab_type": "code",
    "id": "O0KFWmM6DcYF"
   },
   "outputs": [],
   "source": [
    "## YOUR CODE STARTS HERE\n",
    "out = list(map(lambda x: 1 / (1 + np.exp(-x)), range(100)))\n",
    "## YOUR CODE ENDS HERE"
   ]
  },
  {
   "cell_type": "markdown",
   "metadata": {
    "colab_type": "text",
    "id": "VT3ZYI-I1lnd"
   },
   "source": [
    "# Numpy Basics:\n"
   ]
  },
  {
   "cell_type": "markdown",
   "metadata": {
    "colab_type": "text",
    "id": "xK6sSYVF9fd6"
   },
   "source": [
    "#### Creating a numpy array with particular value"
   ]
  },
  {
   "cell_type": "code",
   "execution_count": 9,
   "metadata": {
    "colab": {},
    "colab_type": "code",
    "id": "sSfnCu7z9sLi"
   },
   "outputs": [],
   "source": [
    "# Create a numpy array with size 2*2 with all elements as 8.\n",
    "\n",
    "# YOUR CODE STARTS HERE\n",
    "arr = 8 * np.ones((2,2))\n",
    "# YOUR CODE ENDS HERE"
   ]
  },
  {
   "cell_type": "markdown",
   "metadata": {
    "colab_type": "text",
    "id": "GeBrhozVLuAz"
   },
   "source": [
    "#### Basic Numpy operations:"
   ]
  },
  {
   "cell_type": "code",
   "execution_count": 10,
   "metadata": {
    "colab": {},
    "colab_type": "code",
    "id": "lGxwXbQ05J9y"
   },
   "outputs": [],
   "source": [
    "#Create a numpy array of size 3*3 with random values \n",
    "\n",
    "#YOUR CODE STARTS HERE\n",
    "rand_arr = np.random.randn(3,3) \n",
    "#YOUR CODE ENDS HERE\n",
    "\n"
   ]
  },
  {
   "cell_type": "code",
   "execution_count": 11,
   "metadata": {
    "colab": {},
    "colab_type": "code",
    "id": "cZvWczfHkrVe"
   },
   "outputs": [],
   "source": [
    "#Find the sum of all the elements, mean, maximum and minimum value of the numpy array defined above\n",
    "\n",
    "#YOUR CODE STARTS HERE\n",
    "arr_sum = np.sum(rand_arr) \n",
    "arr_mean = np.mean(rand_arr) \n",
    "arr_max = np.max(rand_arr) \n",
    "arr_min = np.min(rand_arr)\n",
    "#YOUR CODE ENDS HERE"
   ]
  },
  {
   "cell_type": "markdown",
   "metadata": {
    "colab_type": "text",
    "id": "1h0zn0xPKoZt"
   },
   "source": [
    "#### Reshaping and Indexing of Numpy Array:"
   ]
  },
  {
   "cell_type": "code",
   "execution_count": 12,
   "metadata": {
    "colab": {},
    "colab_type": "code",
    "id": "mUmvsP_S6O1o"
   },
   "outputs": [],
   "source": [
    "#create a 1D numpy array of shape 35 with values 1,2,3..,35\n",
    "\n",
    "#YOUR CODE STARTS HERE\n",
    "y = np.arange(35)\n",
    "#YOUR CODE ENDS HERE"
   ]
  },
  {
   "cell_type": "code",
   "execution_count": 13,
   "metadata": {
    "colab": {
     "base_uri": "https://localhost:8080/",
     "height": 34
    },
    "colab_type": "code",
    "id": "afCQdcjgkyMS",
    "outputId": "c3d2014f-0372-4412-decd-171bcc08bcb0"
   },
   "outputs": [
    {
     "data": {
      "text/plain": [
       "(5, 7)"
      ]
     },
     "execution_count": 13,
     "metadata": {},
     "output_type": "execute_result"
    }
   ],
   "source": [
    "# Reshape it as 2D array of shape (5,7)\n",
    "\n",
    "#YOUR CODE STARTS HERE\n",
    "y = y.reshape(5,7)\n",
    "#YOUR CODE ENDS HERE\n",
    "y.shape"
   ]
  },
  {
   "cell_type": "code",
   "execution_count": 14,
   "metadata": {
    "colab": {},
    "colab_type": "code",
    "id": "E5Kjphuyk1AW"
   },
   "outputs": [],
   "source": [
    "# Extract all the elements from 2nd and 3rd row\n",
    "\n",
    "#YOUR CODE STARTS HERE\n",
    "y_row = y[2:4,:]\n",
    "#YOUR CODE ENDS HERE"
   ]
  },
  {
   "cell_type": "code",
   "execution_count": 15,
   "metadata": {
    "colab": {},
    "colab_type": "code",
    "id": "9zpcaEYFk21B"
   },
   "outputs": [],
   "source": [
    "# Extract all the elements from 3rd and 5th and 7th column\n",
    "\n",
    "#YOUR CODE STARTS HERE\n",
    "y_column = y[:,2:7:2]\n",
    "#YOUR CODE ENDS HERE"
   ]
  },
  {
   "cell_type": "markdown",
   "metadata": {
    "colab_type": "text",
    "id": "icAVnHAtPuq9"
   },
   "source": [
    "#### Horizontal and vertical stacking of numpy array"
   ]
  },
  {
   "cell_type": "code",
   "execution_count": 16,
   "metadata": {
    "colab": {},
    "colab_type": "code",
    "id": "0ExpG_f7OPhB"
   },
   "outputs": [],
   "source": [
    "## horizontal and vertical stacking of 1D arrays \n",
    "a = np.array([4.,2.])\n",
    "b = np.array([3.,8.])\n",
    "\n",
    "#YOUR CODE STARTS HERE\n",
    "# Horizontal stacking\n",
    "h_stack = np.hstack((a,b))\n",
    "\n",
    "# Vertical Stacking\n",
    "v_stack = np.vstack((a,b))\n",
    "#YOUR CODE ENDS HERE"
   ]
  },
  {
   "cell_type": "markdown",
   "metadata": {
    "colab_type": "text",
    "id": "v0r_IgoQYW1p"
   },
   "source": [
    "#### `argmin` and `argmax` in numpy array"
   ]
  },
  {
   "cell_type": "code",
   "execution_count": 17,
   "metadata": {
    "colab": {
     "base_uri": "https://localhost:8080/",
     "height": 68
    },
    "colab_type": "code",
    "id": "rh7FI-uZYWXR",
    "outputId": "2c8d2880-5d2a-4fb8-a444-948c8adea81f"
   },
   "outputs": [
    {
     "name": "stdout",
     "output_type": "stream",
     "text": [
      "2 6\n",
      "[1 1 0 1] [0 0 1 0]\n",
      "[2 1] [0 2]\n"
     ]
    }
   ],
   "source": [
    "# Define an array\n",
    "arr = np.array([[5,12,51,25] ,[25,29,2,27]])\n",
    "\n",
    "# YOUR CODE STARTS HERE\n",
    "#Find the position of maximum and minimum value of above array\n",
    "max_idx = np.argmax(arr)\n",
    "min_idx = np.argmin(arr)\n",
    "print (max_idx,min_idx)\n",
    "\n",
    "#Find the indices of maximum and minimum value along each of its columns.\n",
    "max_col = np.argmax(arr,axis = 0)\n",
    "min_col = np.argmin(arr,axis = 0)\n",
    "print (max_col,min_col)\n",
    "\n",
    "#Find the indices of maximum and minimum value along each of the its rows.\n",
    "max_row = np.argmax(arr,axis = 1)\n",
    "min_row = np.argmin(arr,axis = 1)\n",
    "print (max_row,min_row)\n",
    "#YOUR CODE ENDS HERE"
   ]
  }
 ],
 "metadata": {
  "colab": {
   "collapsed_sections": [],
   "name": "DL4V Assignment-0 Solutions",
   "provenance": []
  },
  "kernelspec": {
   "display_name": "Python 3",
   "language": "python",
   "name": "python3"
  },
  "language_info": {
   "codemirror_mode": {
    "name": "ipython",
    "version": 3
   },
   "file_extension": ".py",
   "mimetype": "text/x-python",
   "name": "python",
   "nbconvert_exporter": "python",
   "pygments_lexer": "ipython3",
   "version": "3.7.3"
  }
 },
 "nbformat": 4,
 "nbformat_minor": 1
}
