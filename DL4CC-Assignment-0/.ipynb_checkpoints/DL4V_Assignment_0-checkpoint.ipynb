{
 "cells": [
  {
   "cell_type": "markdown",
   "metadata": {
    "colab_type": "text",
    "id": "Sdf6X2hjDNFA"
   },
   "source": [
    "#### **Welcome to Assignment 0 on Deep Learning for Computer Vision.**\n",
    "In this assignment you will get a chance to understand and work on some of the commonly used functionalities of several Machine Learnign and Data Analysis libraries\n",
    "\n",
    "#### **Instructions**\n",
    "1. Use Python 3.x to run this notebook\n",
    "2. Write your code only in between the lines 'YOUR CODE STARTS HERE' and 'YOUR CODE ENDS HERE'.\n",
    "3. Look up the documentation for each of the Python and Numpy function used.\n",
    "4. This Assignment is just to make you understand several commonly used library functions.\n",
    "5. This assignment is **NOT** evaluated"
   ]
  },
  {
   "cell_type": "code",
   "execution_count": null,
   "metadata": {
    "colab": {},
    "colab_type": "code",
    "id": "9LTkyyoa9Q2K"
   },
   "outputs": [],
   "source": [
    "# DO NOT CHANGE THIS CODE\n",
    "import numpy as np\n",
    "np.random.seed(0)"
   ]
  },
  {
   "cell_type": "markdown",
   "metadata": {
    "colab_type": "text",
    "id": "8koNOLdwDSf_"
   },
   "source": [
    "#### Python Basics\n"
   ]
  },
  {
   "cell_type": "code",
   "execution_count": null,
   "metadata": {
    "colab": {},
    "colab_type": "code",
    "id": "SqufR0fDDT9s"
   },
   "outputs": [],
   "source": [
    "### Implement recursive fibonacci in the function below\n",
    "def recursive_fibonacci(n):\n",
    "  ## YOUR CODE STARTS HERE\n",
    "\n",
    "  ## YOUR CODE ENDS HERE"
   ]
  },
  {
   "cell_type": "code",
   "execution_count": null,
   "metadata": {
    "colab": {
     "base_uri": "https://localhost:8080/",
     "height": 34
    },
    "colab_type": "code",
    "id": "rncsA0RIDTdJ",
    "outputId": "a330333a-1bd9-4bb3-9b94-8d202f1b57a1"
   },
   "outputs": [],
   "source": [
    "### Test your code using the function call below.\n",
    "recursive_fibonacci(3)"
   ]
  },
  {
   "cell_type": "markdown",
   "metadata": {
    "colab_type": "text",
    "id": "V0vcbpLPDXNw"
   },
   "source": [
    "#### Lambda function"
   ]
  },
  {
   "cell_type": "code",
   "execution_count": null,
   "metadata": {
    "colab": {},
    "colab_type": "code",
    "id": "r0eP5yH9DYum"
   },
   "outputs": [],
   "source": [
    "def sigmoid(x):\n",
    "  sigmoid = 1 / (1 + np.exp(-x))\n",
    "  return sigmoid\n",
    "\n",
    "## Implement the above sigmoid function using python lambda functions\n",
    "## YOUR CODE STARTS HERE\n",
    "sigmoid_lambda = \n",
    "## YOUR CODE ENDS HERE"
   ]
  },
  {
   "cell_type": "code",
   "execution_count": null,
   "metadata": {
    "colab": {},
    "colab_type": "code",
    "id": "Z8OOFvDEKopC"
   },
   "outputs": [],
   "source": [
    "## Check you implementation by running this cell (should return True)\n",
    "sigmoid(1) == sigmoid_lambda(1)"
   ]
  },
  {
   "cell_type": "markdown",
   "metadata": {
    "colab_type": "text",
    "id": "VpfxvB4pKyrm"
   },
   "source": [
    "#### List Comprehension"
   ]
  },
  {
   "cell_type": "code",
   "execution_count": null,
   "metadata": {
    "colab": {},
    "colab_type": "code",
    "id": "336h3e1fKt1h"
   },
   "outputs": [],
   "source": [
    "div_by_four = []\n",
    "for number in range(200):\n",
    "    if number%4 == 0:\n",
    "        div_by_four.append(number)\n",
    "        \n",
    "## Implement the above function using list comprehensions\n",
    "## YOUR CODE STARTS HERE\n",
    "div_by_four_lc = \n",
    "## YOUR CODE ENDS HERE"
   ]
  },
  {
   "cell_type": "code",
   "execution_count": null,
   "metadata": {
    "colab": {},
    "colab_type": "code",
    "id": "sJbe5xkNKvof"
   },
   "outputs": [],
   "source": [
    "## Check you implementation by running this cell (should return True)\n",
    "div_by_four == div_by_four_lc"
   ]
  },
  {
   "cell_type": "markdown",
   "metadata": {
    "colab_type": "text",
    "id": "CnmH9QeBDdqo"
   },
   "source": [
    "#### Python map keyword\n",
    "Using the lambda functions and python's map keyword apply sigmoid on a list of numbers from 0 to 99. Store the output in a list and print it. \n",
    "\n",
    "**Observe what happens to the value of sigmoid as the value of x increases. Do you see any trend?**"
   ]
  },
  {
   "cell_type": "code",
   "execution_count": null,
   "metadata": {
    "colab": {},
    "colab_type": "code",
    "id": "O0KFWmM6DcYF"
   },
   "outputs": [],
   "source": [
    "## YOUR CODE STARTS HERE\n",
    "out = \n",
    "## YOUR CODE ENDS HERE"
   ]
  },
  {
   "cell_type": "markdown",
   "metadata": {
    "colab_type": "text",
    "id": "VT3ZYI-I1lnd"
   },
   "source": [
    "# Numpy Basics:\n"
   ]
  },
  {
   "cell_type": "markdown",
   "metadata": {
    "colab_type": "text",
    "id": "xK6sSYVF9fd6"
   },
   "source": [
    "#### Creating a numpy array with particular value\n"
   ]
  },
  {
   "cell_type": "code",
   "execution_count": null,
   "metadata": {
    "colab": {},
    "colab_type": "code",
    "id": "sSfnCu7z9sLi"
   },
   "outputs": [],
   "source": [
    "# Create a numpy array with size 2*2 with all elements as 8.\n",
    "\n",
    "# YOUR CODE STARTS HERE\n",
    "arr = \n",
    "# YOUR CODE ENDS HERE"
   ]
  },
  {
   "cell_type": "markdown",
   "metadata": {
    "colab_type": "text",
    "id": "GeBrhozVLuAz"
   },
   "source": [
    "#### Basic Numpy operations:"
   ]
  },
  {
   "cell_type": "code",
   "execution_count": null,
   "metadata": {
    "colab": {
     "base_uri": "https://localhost:8080/",
     "height": 34
    },
    "colab_type": "code",
    "id": "lGxwXbQ05J9y",
    "outputId": "531ca2a0-d4e6-4757-eccd-a55b470758b3"
   },
   "outputs": [],
   "source": [
    "#Create a numpy array of size 3*3 with random values \n",
    "\n",
    "#YOUR CODE STARTS HERE\n",
    "rand_arr = \n",
    "#YOUR CODE ENDS HERE\n",
    "\n"
   ]
  },
  {
   "cell_type": "code",
   "execution_count": null,
   "metadata": {
    "colab": {},
    "colab_type": "code",
    "id": "cZvWczfHkrVe"
   },
   "outputs": [],
   "source": [
    "#Find the sum of all the elements, mean, maximum and minimum value of the numpy array defined above\n",
    "\n",
    "#YOUR CODE STARTS HERE\n",
    "arr_sum = \n",
    "arr_mean = \n",
    "arr_max = \n",
    "arr_min = \n",
    "#YOUR CODE ENDS HERE"
   ]
  },
  {
   "cell_type": "markdown",
   "metadata": {
    "colab_type": "text",
    "id": "1h0zn0xPKoZt"
   },
   "source": [
    "#### Reshaping and Indexing of Numpy Array:"
   ]
  },
  {
   "cell_type": "code",
   "execution_count": null,
   "metadata": {
    "colab": {
     "base_uri": "https://localhost:8080/",
     "height": 191
    },
    "colab_type": "code",
    "id": "mUmvsP_S6O1o",
    "outputId": "1b04b274-222b-48f5-a433-6f9f2abdb41e"
   },
   "outputs": [],
   "source": [
    "#create a 1D numpy array of shape 35 with values 1,2,3..,35\n",
    "\n",
    "#YOUR CODE STARTS HERE\n",
    "y = \n",
    "#YOUR CODE ENDS HERE"
   ]
  },
  {
   "cell_type": "code",
   "execution_count": null,
   "metadata": {
    "colab": {},
    "colab_type": "code",
    "id": "afCQdcjgkyMS"
   },
   "outputs": [],
   "source": [
    "# Reshape it as 2D array of shape (5,7)\n",
    "\n",
    "#YOUR CODE STARTS HERE\n",
    "y = \n",
    "#YOUR CODE ENDS HERE\n",
    "y.shape"
   ]
  },
  {
   "cell_type": "code",
   "execution_count": null,
   "metadata": {
    "colab": {},
    "colab_type": "code",
    "id": "E5Kjphuyk1AW"
   },
   "outputs": [],
   "source": [
    "# Extract all the elements from 2nd and 3rd row\n",
    "\n",
    "#YOUR CODE STARTS HERE\n",
    "y_row =\n",
    "#YOUR CODE ENDS HERE"
   ]
  },
  {
   "cell_type": "code",
   "execution_count": null,
   "metadata": {
    "colab": {},
    "colab_type": "code",
    "id": "9zpcaEYFk21B"
   },
   "outputs": [],
   "source": [
    "# Extract all the elements from 3rd and 5th and 7th column\n",
    "\n",
    "#YOUR CODE STARTS HERE\n",
    "y_column = \n",
    "#YOUR CODE ENDS HERE"
   ]
  },
  {
   "cell_type": "markdown",
   "metadata": {
    "colab_type": "text",
    "id": "icAVnHAtPuq9"
   },
   "source": [
    "#### Horizontal and vertical stacking of numpy array"
   ]
  },
  {
   "cell_type": "code",
   "execution_count": null,
   "metadata": {
    "colab": {
     "base_uri": "https://localhost:8080/",
     "height": 52
    },
    "colab_type": "code",
    "id": "0ExpG_f7OPhB",
    "outputId": "21b58354-e228-4d23-d305-ec6c9cb361ff"
   },
   "outputs": [],
   "source": [
    "## horizontal and vertical stacking of 1D arrays \n",
    "a = np.array([4.,2.])\n",
    "b = np.array([3.,8.])\n",
    "\n",
    "#YOUR CODE STARTS HERE\n",
    "# Horizontal stacking\n",
    "h_stack = \n",
    "\n",
    "# Vertical Stacking\n",
    "v_stack =\n",
    "#YOUR CODE ENDS HERE"
   ]
  },
  {
   "cell_type": "markdown",
   "metadata": {
    "colab_type": "text",
    "id": "v0r_IgoQYW1p"
   },
   "source": [
    "#### `argmin` and `argmax` in numpy array"
   ]
  },
  {
   "cell_type": "code",
   "execution_count": null,
   "metadata": {
    "colab": {
     "base_uri": "https://localhost:8080/",
     "height": 69
    },
    "colab_type": "code",
    "id": "rh7FI-uZYWXR",
    "outputId": "b44001ee-4c61-4790-a5df-f9704063b1fa"
   },
   "outputs": [],
   "source": [
    "# Define an array\n",
    "arr = np.array([[5,12,51,25] ,[25,29,2,27]])\n",
    "\n",
    "# YOUR CODE STARTS HERE\n",
    "#Find the position of maximum and minimum value of above array\n",
    "max_idx = \n",
    "min_idx = \n",
    "print (max_idx,min_idx)\n",
    "\n",
    "#Find the indices of maximum and minimum value along each of its columns.\n",
    "max_col = \n",
    "min_col = \n",
    "print (max_col,min_col)\n",
    "\n",
    "#Find the indices of maximum and minimum value along each of the its rows.\n",
    "max_row = \n",
    "min_row = \n",
    "print (max_row,min_row)\n",
    "#YOUR CODE ENDS HERE"
   ]
  }
 ],
 "metadata": {
  "colab": {
   "collapsed_sections": [],
   "name": "DL4V Assignment 0",
   "provenance": []
  },
  "kernelspec": {
   "display_name": "Python 3",
   "language": "python",
   "name": "python3"
  },
  "language_info": {
   "codemirror_mode": {
    "name": "ipython",
    "version": 3
   },
   "file_extension": ".py",
   "mimetype": "text/x-python",
   "name": "python",
   "nbconvert_exporter": "python",
   "pygments_lexer": "ipython3",
   "version": "3.7.3"
  }
 },
 "nbformat": 4,
 "nbformat_minor": 1
}
