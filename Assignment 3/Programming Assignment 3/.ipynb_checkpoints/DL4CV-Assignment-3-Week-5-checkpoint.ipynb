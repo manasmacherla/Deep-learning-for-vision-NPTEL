{
 "cells": [
  {
   "cell_type": "markdown",
   "metadata": {
    "id": "ou0msMUmgx6m"
   },
   "source": [
    "#### **Welcome to Assignment 3 on Deep Learning for Computer Vision.**\n",
    "<!-- This assignment consists of three parts. Part-1 is based on the content you learned in Week-3 of course and Part-2 is based on the content you learned in Week-4 of the course. Part-3 is **un-graded** and mainly designed to help you flex the Deep Learning muscles grown in Part-2. \n",
    "\n",
    "Unlike the first two parts, you'll have to implement everything from scratch in Part-3. If you find answers to questions in Part-3, feel free to head out to the forums and discuss them with your classmates! -->\n",
    "\n",
    "#### **Instructions**\n",
    "1. Use Python 3.x to run this notebook\n",
    "2. Write your code only in between the lines 'YOUR CODE STARTS HERE' and 'YOUR CODE ENDS HERE'.\n",
    "you should not change anything else in the code cells, if you do, the answers you are supposed to get at the end of this assignment might be wrong.\n",
    "3. Read documentation of each function carefully.\n",
    "4. All the Best!"
   ]
  },
  {
   "cell_type": "markdown",
   "metadata": {
    "id": "gTuteiZLlJcy"
   },
   "source": [
    "\n",
    "### Part-1: Resnet-18 from scratch\n",
    "\n",
    "In this question, you'll have to code Resnet-18 from scratch (we have provided a lot of starter code), this'll help you get a hold on how to code an architecture with skip connections and blocks of layers.\n",
    "\n",
    "It's suggested you first briefly understand how the Resnet architecture is defined originally before you start with this question. We do take inspiration from the original Pytorch implementation, but if you try peeking into the original source code in the library, it'll confuse you more than helping!\n",
    "\n",
    "**Sidenote:** As this assignment is mainly focused on learning things, we train the models only for a small number of epochs and don't focus on hyper-parameter tuning. When you start using deep learning in real-world applications and competitions, hyper-parameter tuning plays a decent role!"
   ]
  },
  {
   "cell_type": "code",
   "execution_count": 1,
   "metadata": {
    "id": "GM0uht4kcYVs"
   },
   "outputs": [],
   "source": [
    "import numpy as np\n",
    "import torch\n",
    "import torch.nn as nn\n",
    "import torch.optim as optim\n",
    "from torchvision import datasets, transforms\n",
    "import torchvision\n",
    "import torch.nn.functional as F\n",
    "import timeit\n",
    "import unittest\n",
    "\n",
    "## Please DONOT remove these lines. \n",
    "torch.manual_seed(0)\n",
    "torch.backends.cudnn.deterministic = True\n",
    "torch.backends.cudnn.benchmark = False\n",
    "np.random.seed(0)"
   ]
  },
  {
   "cell_type": "code",
   "execution_count": 7,
   "metadata": {
    "id": "uhNHc_cjmvoo"
   },
   "outputs": [
    {
     "name": "stdout",
     "output_type": "stream",
     "text": [
      "cuda\n"
     ]
    }
   ],
   "source": [
    "# check availability of GPU and set the device accordingly\n",
    "device = torch.device(\"cuda\")\n",
    "print(device)\n",
    "\n",
    "# define a set of transforms for preparing the dataset\n",
    "transform_train = transforms.Compose([\n",
    "        # use random crop with image size fo 32 and padding of 8 \n",
    "        # flip the image horizontally (use pytorch random horizontal flip)\n",
    "        # convert the image to a pytorch tensor\n",
    "        transforms.RandomCrop(32, padding=8),\n",
    "        transforms.RandomHorizontalFlip(),\n",
    "        transforms.ToTensor(),\n",
    "        # normalise the images with mean and std of the dataset \n",
    "        # mean: (0.4914, 0.4822, 0.4465) std: (0.2023, 0.1994, 0.2010)\n",
    "        transforms.Normalize(mean=[0.4914, 0.4822, 0.4465],\n",
    "                              std=[0.2023, 0.1994, 0.2010])])\n",
    "\n",
    "\n",
    "# define transforms for the test data: Should they be same as the one used for train? \n",
    "transform_test = transforms.Compose([\n",
    "    transforms.ToTensor(),\n",
    "    transforms.Normalize(mean=[0.4914, 0.4822, 0.4465],\n",
    "                         std=[0.2023, 0.1994, 0.2010])\n",
    "])\n",
    "        \n",
    "    \n",
    "        # convert the image to a pytorch tensor\n",
    "        # normalise the images with mean and std of the dataset \n",
    "        # mean: (0.4914, 0.4822, 0.4465) std: (0.2023, 0.1994, 0.2010)\n",
    "\n",
    "use_cuda = True # if you have acess to a GPU, enable it to speed the training "
   ]
  },
  {
   "cell_type": "code",
   "execution_count": null,
   "metadata": {
    "id": "cQciUzi2oF5Q"
   },
   "outputs": [],
   "source": [
    "# Load the CIFAR-10 training, test datasets using `torchvision.datasets.CIFAR10`\n",
    "#### YOUR CODE STARTS HERE ####\n",
    "train_dataset = \n",
    "test_dataset = \n",
    "#### YOUR CODE ENDS HERE ####"
   ]
  },
  {
   "cell_type": "code",
   "execution_count": null,
   "metadata": {
    "id": "A1Za_R3Yrie2"
   },
   "outputs": [],
   "source": [
    "# create dataloaders for training and test datasets\n",
    "# use a batch size of 32 and set shuffle=True for the training set\n",
    "#### YOUR CODE STARTS HERE ####\n",
    "train_dataloader =\n",
    "test_dataloader = \n",
    "#### YOUR CODE ENDS HERE ####"
   ]
  },
  {
   "cell_type": "code",
   "execution_count": null,
   "metadata": {
    "id": "gCifYwfbT9Ic"
   },
   "outputs": [],
   "source": [
    "def conv3x3(in_planes, out_planes, stride=1, groups=1):\n",
    "    # define a convolutional layer with a kernel size of 3x3\n",
    "    # use stride, groups values passed to the function along with a padding of 1 and dilatio of 1\n",
    "    # set bias to False\n",
    "    #### YOUR CODE STARTS HERE ####\n",
    "    layer = \n",
    "    #### YOUR CODE ENDS HERE ####\n",
    "    return layer\n",
    "\n",
    "\n",
    "def conv1x1(in_planes, out_planes, stride=1):\n",
    "    # define a convolutional layer with a kernel size of 1x1\n",
    "    # use stride value passed to the function\n",
    "    # set bias to False\n",
    "    # leave all other parameters to default values\n",
    "    #### YOUR CODE STARTS HERE ####\n",
    "    layer = \n",
    "    #### YOUR CODE ENDS HERE ####\n",
    "    return layer\n",
    "\n",
    "class BasicBlock(nn.Module):\n",
    "    expansion = 1\n",
    "    def __init__(self, inplanes, planes, stride=1, downsample=None, groups=1,\n",
    "                 base_width=64):\n",
    "        super(BasicBlock, self).__init__()\n",
    "        #### YOUR CODE STARTS HERE ####\n",
    "        # define batch-norm layer to for easy use (you don't have to call it here)\n",
    "        norm_layer = \n",
    "        # define a 3x3 convolution layer with inplanes as in-channels and planes and out_channels, use the passed value of stride\n",
    "        self.conv1 = \n",
    "        # define a batchnorm layer (use the norm_layer defined above)\n",
    "        self.bn1 = \n",
    "        # define a relu layer with inplace set to True\n",
    "        self.relu = \n",
    "        # define a 3x3 convolution layer with inplanes as in-channels and planes and out_channels\n",
    "        self.conv2 = \n",
    "        # define a batchnorm layer (use the norm_layer defined above)\n",
    "        self.bn2 = \n",
    "        #### YOUR CODE ENDS HERE ####\n",
    "        self.downsample = downsample\n",
    "        self.stride = stride\n",
    "\n",
    "    def forward(self, x):\n",
    "        #### YOUR CODE STARTS HERE ####\n",
    "        # make a copy of nput (for using them in skip connections)\n",
    "        identity = \n",
    "\n",
    "        # pass the input through, conv1->bn1->relu->conv2->bn2\n",
    " \n",
    "        #### YOUR CODE ENDS HERE ####\n",
    "\n",
    "        if self.downsample is not None:\n",
    "            identity = self.downsample(x)\n",
    "\n",
    "        #### YOUR CODE STARTS HERE ####\n",
    "        # add the skip connection\n",
    "        out \n",
    "        # use a relu activation on `out`\n",
    "\n",
    "        #### YOUR CODE ENDS HERE ####\n",
    "\n",
    "        return out"
   ]
  },
  {
   "cell_type": "code",
   "execution_count": null,
   "metadata": {
    "id": "Sr00CBjlfqsp"
   },
   "outputs": [],
   "source": [
    "class ResNet18(nn.Module):\n",
    "  # first start with make_layer method followed by __init__, forward methods\n",
    "    def __init__(self, block, num_classes=10, groups=1):\n",
    "        super(ResNet18, self).__init__()\n",
    "        \n",
    "        # define batch-norm layer to for easy use (you don't have to call it here)\n",
    "        #### YOUR CODE STARTS HERE ####\n",
    "        norm_layer = \n",
    "        #### YOUR CODE ENDS HERE ####\n",
    "        self._norm_layer = norm_layer\n",
    "        self.inplanes = 64\n",
    "        self.dilation = 1\n",
    "\n",
    "        self.groups = groups\n",
    "        self.base_width = 64\n",
    "        #### YOUR CODE STARTS HERE ####\n",
    "        # define a conv layer with number of image channels as in-channels and inplanes ans out-channles,\n",
    "        # use a kernel size of 7, stride of 2, padding of 3 and set bias to False \n",
    "        self.conv1 = \n",
    "        # define a batchnorm layer (use the norm_layer defined above)\n",
    "        self.bn1 = \n",
    "        # define a relu layer with inplace set to True\n",
    "        self.relu = \n",
    "        # define a maxpool layer with kernel size of 3, stride of 2, padding of 1\n",
    "        self.maxpool = \n",
    "        # complete the make layer method below and use it with the block value passed to init\n",
    "        # with 64 planes and 2 blocks\n",
    "        self.layer1 = \n",
    "        # use  make layer method to define a second set of layers with the block value passed to init\n",
    "        # with 128 planes and 2 blocks and a stride value of 2\n",
    "        self.layer2 = \n",
    "        # use  make layer method to define a second set of layers with the block value passed to init\n",
    "        # with 256 planes and 2 blocks and a stride value of 2\n",
    "        self.layer3 = \n",
    "        # use  make layer method to define a second set of layers with the block value passed to init\n",
    "        # with 512 planes and 2 blocks and a stride value of 2\n",
    "        self.layer4 = \n",
    "        # define  adaptive avergae pooling layer with output size (1, 1)\n",
    "        self.avgpool = \n",
    "        #### YOUR CODE ENDS HERE ####\n",
    "        self.fc = nn.Linear(512 * block.expansion, num_classes)\n",
    "\n",
    "        #### YOUR CODE STARTS HERE ####        \n",
    "        for m in self.modules():\n",
    "            if isinstance(m, nn.Conv2d):\n",
    "                # initialise the weights with kaiming normal, set mode to fan out and \n",
    "                # non_linearity to the activation function you used above\n",
    "\n",
    "            elif isinstance(m, nn.BatchNorm2d):\n",
    "                # initialise weights with a value of 1 and bias with a value of 0\n",
    "                \n",
    "         #### YOUR CODE ENDS HERE ####\n",
    "\n",
    "    def _make_layer(self, block, planes, blocks, stride=1):\n",
    "        norm_layer = self._norm_layer\n",
    "        downsample = None\n",
    "        previous_dilation = self.dilation\n",
    "        if stride != 1 or self.inplanes != planes * block.expansion:\n",
    "            downsample = nn.Sequential(\n",
    "                conv1x1(self.inplanes, planes * block.expansion, stride),\n",
    "                norm_layer(planes * block.expansion),\n",
    "            )\n",
    "        layers = []\n",
    "        layers.append(block(self.inplanes, planes, stride, downsample, self.groups,\n",
    "                            self.base_width))\n",
    "        self.inplanes = planes * block.expansion\n",
    "        for _ in range(1, blocks):\n",
    "            #### YOUR CODE STARTS HERE ####\n",
    "            # append the blocks to layers, leave stride and downsample to default values\n",
    "            \n",
    "            #### YOUR CODE ENDS HERE ####\n",
    "        \n",
    "        return nn.Sequential(*layers)\n",
    "\n",
    "    def forward(self, x):\n",
    "        #### YOUR CODE STARTS HERE ####\n",
    "        # complete the forward pass\n",
    "        # order of layers: conv1->bn1->relu->maxpool->layer1->layer2->layer3->layer4->avgpool->fc\n",
    "\n",
    "        #### YOUR CODE ENDS HERE ####\n",
    "        return x"
   ]
  },
  {
   "cell_type": "code",
   "execution_count": null,
   "metadata": {
    "id": "LmTBdw1NoNPt"
   },
   "outputs": [],
   "source": [
    "def train(model, device, train_loader, criterion, optimizer, epoch):\n",
    "    model.train()\n",
    "    for batch_idx, (data, target) in enumerate(train_loader):\n",
    "      #### YOUR CODE STARTS HERE ####\n",
    "        # send the image, target to the device\n",
    "\n",
    "        # flush out the gradients stored in optimizer\n",
    "\n",
    "        # pass the image to the model and assign the output to variable named output\n",
    "\n",
    "        # calculate the loss (use cross entropy in pytorch)\n",
    "\n",
    "        # do a backward pass\n",
    "\n",
    "        # update the weights\n",
    "\n",
    "      #### YOUR CODE ENDS HERE ####\n",
    "        if batch_idx % 20 == 0:\n",
    "            print('Train Epoch: {} [{}/{} ({:.0f}%)]\\tLoss: {:.6f}'.format(\n",
    "                epoch, batch_idx * len(data), len(train_loader.dataset),\n",
    "                100. * batch_idx / len(train_loader), loss.item()))"
   ]
  },
  {
   "cell_type": "code",
   "execution_count": null,
   "metadata": {
    "id": "JDSnXB7HpuyN"
   },
   "outputs": [],
   "source": [
    "def test(model, device, test_loader, criterion):\n",
    "    model.eval()\n",
    "    test_loss = 0\n",
    "    correct = 0\n",
    "    with torch.no_grad():\n",
    "        for data, target in test_loader:\n",
    "          ### YOUR CODE STARTS HERE ####\n",
    "            # send the image, target to the device\n",
    "\n",
    "            # pass the image to the model and assign the output to variable named output\n",
    "\n",
    "          #### YOUR CODE ENDS HERE ####\n",
    "            test_loss += criterion(output, target).item()  # sum up batch loss\n",
    "            pred = output.argmax(dim=1, keepdim=True)  # get the index of the max log-probability\n",
    "            correct += pred.eq(target.view_as(pred)).sum().item()\n",
    "\n",
    "    test_loss /= len(test_loader.dataset)\n",
    "\n",
    "    print('\\nTest set: Average loss: {:.4f}, Accuracy: {}/{} ({:.0f}%)\\n'.format(\n",
    "        test_loss, correct, len(test_loader.dataset),\n",
    "        100. * correct / len(test_loader.dataset)))"
   ]
  },
  {
   "cell_type": "code",
   "execution_count": null,
   "metadata": {
    "id": "hyoPZ87tMzp-"
   },
   "outputs": [],
   "source": [
    "model = ResNet18(BasicBlock, num_classes=10).to(device)\n",
    "criterion = nn.CrossEntropyLoss().cuda()\n",
    "## Define Adam Optimiser with a learning rate of 0.01\n",
    "optimizer = optim.Adam(model.parameters(), lr=0.01)\n",
    "\n",
    "start = timeit.default_timer()\n",
    "for epoch in range(1, 11):\n",
    "    train(model, device, train_dataloader, criterion, optimizer, epoch)\n",
    "    test(model, device, test_dataloader, criterion)\n",
    "stop = timeit.default_timer()\n",
    "print('Total time taken: {} seconds'.format(int(stop - start)) )"
   ]
  },
  {
   "cell_type": "markdown",
   "metadata": {
    "id": "Qs-uD1BMb7Yl"
   },
   "source": [
    "#### Question-1\n",
    "\n",
    "Report the final test accuracy displayed above (If you are not getting the exact number shown in options, please report the closest number).\n",
    "1. 94%\n",
    "2. 76%\n",
    "3. 48%\n",
    "4. 85%"
   ]
  },
  {
   "cell_type": "markdown",
   "metadata": {
    "id": "G8Y26Vp19Zka"
   },
   "source": [
    "### Part-2: Transfer Learning - ResNet50\n",
    "\n"
   ]
  },
  {
   "cell_type": "markdown",
   "metadata": {
    "id": "1DAyepn__Wei"
   },
   "source": [
    "### Download and prepare the Tiny-Imagenet dataset\n"
   ]
  },
  {
   "cell_type": "code",
   "execution_count": null,
   "metadata": {
    "id": "sP9A0oukeu-p"
   },
   "outputs": [],
   "source": [
    "!ls"
   ]
  },
  {
   "cell_type": "code",
   "execution_count": null,
   "metadata": {
    "id": "RpTE3kK99fRl"
   },
   "outputs": [],
   "source": [
    "!wget http://cs231n.stanford.edu/tiny-imagenet-200.zip && unzip -qq tiny-imagenet-200.zip && rm tiny-imagenet-200.zip"
   ]
  },
  {
   "cell_type": "code",
   "execution_count": null,
   "metadata": {
    "id": "EofbttFn4blD"
   },
   "outputs": [],
   "source": [
    "## DONOT modify the code in this cell!\n",
    "## For the curiosu: We're re-organising the files into standard format for easier dataloading\n",
    "\n",
    "import pandas as pd\n",
    "import os\n",
    "import shutil\n",
    "import glob\n",
    "import copy\n",
    "\n",
    "categories = os.listdir('tiny-imagenet-200/train/')\n",
    "assert len(categories) == 200\n",
    "for each in categories:\n",
    "    os.mkdir(f'tiny-imagenet-200/val/{each}')\n",
    "\n",
    "df = pd.read_csv('tiny-imagenet-200/val/val_annotations.txt', delimiter='\\t', header=None)\n",
    "\n",
    "label_to_cat = dict(zip(df[0], df[1]))\n",
    "\n",
    "for each in glob.glob('tiny-imagenet-200/val/images/*.JPEG'):\n",
    "    src = copy.copy(each)\n",
    "    fl_name = each.split('/')[-1]\n",
    "    dest = each.replace('images', label_to_cat[fl_name])\n",
    "    shutil.move(src, dest)"
   ]
  },
  {
   "cell_type": "code",
   "execution_count": null,
   "metadata": {
    "id": "YxCJ4hnD-wtR"
   },
   "outputs": [],
   "source": [
    "!rm -rf tiny-imagenet-200/val/images/ tiny-imagenet-200/val/val_annotations.txt tiny-imagenet-200/test/"
   ]
  },
  {
   "cell_type": "code",
   "execution_count": null,
   "metadata": {
    "id": "cXiv0RdK9b1V"
   },
   "outputs": [],
   "source": [
    "# This is shold return 10000\n",
    "!cd tiny-imagenet-200/val/ && find . -type f | wc -l"
   ]
  },
  {
   "cell_type": "markdown",
   "metadata": {
    "id": "U99Y-WUU_jub"
   },
   "source": [
    "### Model building\n"
   ]
  },
  {
   "cell_type": "code",
   "execution_count": null,
   "metadata": {
    "id": "OMbbVtaKcYLb"
   },
   "outputs": [],
   "source": [
    "import numpy as np\n",
    "import torch\n",
    "import torch.nn as nn\n",
    "import torch.optim as optim\n",
    "from torchvision import datasets, transforms\n",
    "import torchvision\n",
    "import torch.nn.functional as F\n",
    "import timeit\n",
    "import unittest\n",
    "\n",
    "## Please DONOT remove these lines. \n",
    "torch.manual_seed(0)\n",
    "torch.backends.cudnn.deterministic = True\n",
    "torch.backends.cudnn.benchmark = False\n",
    "np.random.seed(0)"
   ]
  },
  {
   "cell_type": "code",
   "execution_count": null,
   "metadata": {
    "id": "RDnFqg7D-OKX"
   },
   "outputs": [],
   "source": [
    "# check availability of GPU and set the device accordingly\n",
    "device = torch.device(\"cuda\" if torch.cuda.is_available() else \"cpu\")\n",
    "\n",
    "# define a set of transforms for preparing the dataset\n",
    "# use mean and std of imagenet dataset\n",
    "normalize = transforms.Normalize()\n",
    "\n",
    "transform_train =  \n",
    "          # use random-resized-crop with a image size of 224\n",
    "          # flip the image horizontally (use pytorch random horizontal flip)\n",
    "          # convert the image to a pytorch tensor\n",
    "          # normalise the image\n",
    "    ])\n",
    "\n",
    "# define transforms for the test data: Should they be same as the one used for train? \n",
    "transform_test = \n",
    "          # re-size the images to 256x256\n",
    "          # center-crop the 256 images to 224x224\n",
    "          # convert the image to a pytorch tensor\n",
    "          # normalise the image\n",
    "    ])\n",
    "\n",
    "use_cuda = torch.cuda.is_available() # if you have acess to a GPU, enabble it to speed the training "
   ]
  },
  {
   "cell_type": "code",
   "execution_count": null,
   "metadata": {
    "id": "z1eesbGmcfcH"
   },
   "outputs": [],
   "source": [
    "!ls # You should see tiny-imagenet-200 folder "
   ]
  },
  {
   "cell_type": "code",
   "execution_count": null,
   "metadata": {
    "id": "kikXzp0WBY_M"
   },
   "outputs": [],
   "source": [
    "# Load the training, test datasets using `torchvision.datasets.ImageFolder`\n",
    "#### YOUR CODE STARTS HERE ####\n",
    "train_dataset =  \n",
    "test_dataset = \n",
    "#### YOUR CODE ENDS HERE ####"
   ]
  },
  {
   "cell_type": "code",
   "execution_count": null,
   "metadata": {
    "id": "dCDZTsdqBYTe"
   },
   "outputs": [],
   "source": [
    "# create dataloaders for training and test datasets\n",
    "# use a batch size of 32 and set shuffle=True for the training set\n",
    "#### YOUR CODE STARTS HERE ####\n",
    "train_dataloader = \n",
    "test_dataloader = \n",
    "#### YOUR CODE ENDS HERE ####"
   ]
  },
  {
   "cell_type": "code",
   "execution_count": null,
   "metadata": {
    "id": "UOp1w3DUcm4t"
   },
   "outputs": [],
   "source": [
    "def train(model, device, train_loader, criterion, optimizer, epoch):\n",
    "    model.train()\n",
    "    for batch_idx, (data, target) in enumerate(train_loader):\n",
    "      #### YOUR CODE STARTS HERE ####\n",
    "        # send the image, target to the device\n",
    "\n",
    "        # flush out the gradients stored in optimizer\n",
    "\n",
    "        # pass the image to the model and assign the output to variable named output\n",
    "\n",
    "        # calculate the loss (use cross entropy in pytorch)\n",
    "\n",
    "        # do a backward pass\n",
    "\n",
    "        # update the weights\n",
    "\n",
    "      #### YOUR CODE ENDS HERE ####\n",
    "        if batch_idx % 20 == 0:\n",
    "            print('Train Epoch: {} [{}/{} ({:.0f}%)]\\tLoss: {:.6f}'.format(\n",
    "                epoch, batch_idx * len(data), len(train_loader.dataset),\n",
    "                100. * batch_idx / len(train_loader), loss.item()))"
   ]
  },
  {
   "cell_type": "code",
   "execution_count": null,
   "metadata": {
    "id": "zslYzJtrcshc"
   },
   "outputs": [],
   "source": [
    "def test(model, device, test_loader, criterion):\n",
    "    model.eval()\n",
    "    test_loss = 0\n",
    "    correct = 0\n",
    "    with torch.no_grad():\n",
    "        for data, target in test_loader:\n",
    "          ### YOUR CODE STARTS HERE ####\n",
    "            # send the image, target to the device\n",
    "\n",
    "            # pass the image to the model and assign the output to variable named output\n",
    "\n",
    "          #### YOUR CODE ENDS HERE ####\n",
    "            test_loss += criterion(output, target).item()  # sum up batch loss\n",
    "            pred = output.argmax(dim=1, keepdim=True)  # get the index of the max log-probability\n",
    "            correct += pred.eq(target.view_as(pred)).sum().item()\n",
    "\n",
    "    test_loss /= len(test_loader.dataset)\n",
    "\n",
    "    print('\\nTest set: Average loss: {:.4f}, Accuracy: {}/{} ({:.0f}%)\\n'.format(\n",
    "        test_loss, correct, len(test_loader.dataset),\n",
    "        100. * correct / len(test_loader.dataset)))"
   ]
  },
  {
   "cell_type": "markdown",
   "metadata": {
    "id": "ditBA8j2lyxA"
   },
   "source": [
    "### Question-2\n",
    "\n",
    "What are the number of input features for the final FC layer in Resnet-50? (Hint: Use the code below)\n",
    "\n",
    "1. 1024\n",
    "2. 512\n",
    "3. 784\n",
    "4. 2048\n"
   ]
  },
  {
   "cell_type": "code",
   "execution_count": null,
   "metadata": {
    "id": "T3djBkDXctnx"
   },
   "outputs": [],
   "source": [
    "# use the resnet50 model provided by pytorch with pre-trained parameter set to true\n",
    "# detach the final FC layer of Resnet-50 and attach a layer with 200 output nodes (number of classes in tiny-imagenet)\n",
    "### YOUR CODE STARTS HERE ####\n",
    "model = \n",
    "\n",
    "### YOUR CODE ENDS HERE ####\n",
    "model = model.to(device)\n",
    "\n",
    "criterion = nn.CrossEntropyLoss().cuda()\n",
    "## Define Adam Optimiser with a learning rate of 0.01 (You should add the FC layer parameters only)\n",
    "### YOUR CODE STARTS HERE ####\n",
    "optimizer = \n",
    "### YOUR CODE ENDS HERE ####\n",
    "\n",
    "start = timeit.default_timer()\n",
    "for epoch in range(1, 5):\n",
    "    train(model, device, train_dataloader, criterion, optimizer, epoch)\n",
    "    test(model, device, test_dataloader, criterion)\n",
    "stop = timeit.default_timer()\n",
    "print('Total time taken: {} seconds'.format(int(stop - start)) )"
   ]
  },
  {
   "cell_type": "markdown",
   "metadata": {
    "id": "-e8W4HtbeG4Q"
   },
   "source": [
    "#### Question-3\n",
    "\n",
    "Report the final test accuracy displayed above (If you are not getting the exact number shown in options, please report the closest number).\n",
    "\n",
    "1. 83%\n",
    "2. 35%\n",
    "3. 70%\n",
    "4. 94%"
   ]
  },
  {
   "cell_type": "code",
   "execution_count": null,
   "metadata": {
    "id": "2PsUKoKHc3Xv"
   },
   "outputs": [],
   "source": []
  }
 ],
 "metadata": {
  "accelerator": "GPU",
  "colab": {
   "collapsed_sections": [],
   "name": "DL4CV-Assignment-3-Week-5.ipynb",
   "provenance": []
  },
  "kernelspec": {
   "display_name": "carnd-gpu1",
   "language": "python",
   "name": "carnd-gpu1"
  },
  "language_info": {
   "codemirror_mode": {
    "name": "ipython",
    "version": 3
   },
   "file_extension": ".py",
   "mimetype": "text/x-python",
   "name": "python",
   "nbconvert_exporter": "python",
   "pygments_lexer": "ipython3",
   "version": "3.7.9"
  }
 },
 "nbformat": 4,
 "nbformat_minor": 1
}
