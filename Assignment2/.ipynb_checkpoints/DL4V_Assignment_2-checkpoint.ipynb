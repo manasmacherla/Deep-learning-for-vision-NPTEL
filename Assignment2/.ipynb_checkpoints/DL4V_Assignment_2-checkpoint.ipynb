{
 "cells": [
  {
   "cell_type": "markdown",
   "metadata": {
    "id": "o6ayCViEg4nh"
   },
   "source": [
    "#### **Welcome to Assignment 2 on Deep Learning for Computer Vision.**\n",
    "This assignment consists of three parts. Part-1 is based on the content you learned in Week-3 of course and Part-2 is based on the content you learned in Week-4 of the course. Part-3 is **un-graded** and mainly designed to help you flex the Deep Learning muscles grown in Part-2. \n",
    "\n",
    "Unlike the first two parts, you'll have to implement everything from scratch in Part-3. If you find answers to questions in Part-3, feel free to head out to the forums and discuss them with your classmates!\n",
    "\n",
    "#### **Instructions**\n",
    "1. Use Python 3.x to run this notebook\n",
    "2. Write your code only in between the lines 'YOUR CODE STARTS HERE' and 'YOUR CODE ENDS HERE'.\n",
    "you should not change anything else in the code cells, if you do, the answers you are supposed to get at the end of this assignment might be wrong.\n",
    "3. Read documentation of each function carefully.\n",
    "4. All the Best!"
   ]
  },
  {
   "cell_type": "markdown",
   "metadata": {
    "id": "Jca6tcpSh0EK"
   },
   "source": [
    "# Part-1"
   ]
  },
  {
   "cell_type": "code",
   "execution_count": null,
   "metadata": {
    "id": "5KURep5V_0th"
   },
   "outputs": [],
   "source": [
    "# Imports\n",
    "import numpy as np\n",
    "import cv2\n",
    "import matplotlib.pyplot as plt\n",
    "from PIL import Image\n",
    "\n",
    "# %matplotlib inline uncomment this line if you're running this notebook on your local PC"
   ]
  },
  {
   "cell_type": "code",
   "execution_count": null,
   "metadata": {
    "id": "SZEae-LT_5n-"
   },
   "outputs": [],
   "source": [
    "# DO NOT CHANGE THIS CODE\n",
    "np.random.seed(10)"
   ]
  },
  {
   "cell_type": "markdown",
   "metadata": {
    "id": "ZSGQF0Zu9Vuo"
   },
   "source": [
    "### Question 1 : Line detection from a given image.\n",
    "\n",
    "\n",
    "Find the starting and ending point co-ordinates of detected lines of a given image using hough transform. \n",
    "\n",
    "Following criterion need to be satisfied to qualify as a line:\n",
    "\n",
    "(a) Minimum line length = 60;\n",
    "(b) Maximum allowed gap between line segments = 250;\n",
    "(c) Accumulator threshold parameter = 15  (only those lines are returned that get enough votes);\n",
    "(d) Distance resolution of the accumulator in pixels = 1;\n",
    "(e) Angle resolution of the accumulator in radians = pi/180\n",
    "\n",
    "\n",
    "Which of the following pairs of (start, end) co-ordinates of detected lines are true:\n",
    "\n",
    "1. line-1: (1,81), (27,9) ; line-2 : (92,0), (95,64)\n",
    "2. line-1: (2,79), (26,11) ; line-2 : (92,1), (94,67)\n",
    "3. line-1: (2,80), (26,10) ; line-2: (91,2), (96,65)\n",
    "4.  None of the above"
   ]
  },
  {
   "cell_type": "code",
   "execution_count": null,
   "metadata": {
    "id": "fwdLOgZs99bC"
   },
   "outputs": [],
   "source": [
    "#Read image \n",
    "img = cv2.imread('line.png', cv2.IMREAD_COLOR)\n",
    "\n",
    "# Visualize the input image\n",
    "plt.imshow(img)\n",
    "plt.title('Input Image')\n",
    "plt.show()\n",
    "\n",
    "\n",
    "#convert the image to gray-scale\n",
    "gray = cv2.cvtColor(img, cv2.COLOR_BGR2GRAY)\n",
    "\n",
    "#Find the edges in the image using canny detector\n",
    "\n",
    "edges = cv2.Canny(gray, 50, 200)\n",
    "#plt.imshow(edges)\n",
    "#plt.show()\n",
    "\n",
    "####YOUR CODE STARTS HERE #####\n",
    "rho = 1\n",
    "theta = np.pi/180\n",
    "threshold = 15\n",
    "min_line_length = 60\n",
    "max_line_gap = 250\n",
    "line_image = np.copy(img)*0 #creating a blank to draw lines on\n",
    "\n",
    "lines = cv2.HoughLinesP(edges, rho, theta, threshold, np.array([]),min_line_length, max_line_gap)\n",
    "\n",
    "for line in lines:\n",
    "    for x1,y1,x2,y2 in line:\n",
    "        cv2.line(line_image, (x1,y1), (x2,y2), (255,0,0), 5)\n",
    "    \n",
    "img_line = cv2.addWeighted(img, 0.8, line_image, 1, 0)\n",
    "\n",
    "####YOUR CODE ENDS HERE #####\n",
    "plt.imshow(img_line)\n",
    "plt.title('Detected Line Image')\n",
    "plt.show()\n",
    "\n",
    "print(lines)"
   ]
  },
  {
   "cell_type": "markdown",
   "metadata": {
    "id": "RhErU_TY-PpU"
   },
   "source": [
    "##Question 2: Point matching using RANSAC\n",
    "\n",
    "Given two sets of points related by affine transformation(with an outlier rate), use the RANSAC method to estimate the Affine transformation parameters between them and the number of inliers(Matching points).\n",
    "\n",
    "Which of the following is the estimated number of inliers for an outlier rate of 0.9:\n",
    "\n",
    "1. 89\n",
    "2. 101\n",
    "3. 117\n",
    "4. 132"
   ]
  },
  {
   "cell_type": "code",
   "execution_count": null,
   "metadata": {
    "colab": {
     "base_uri": "https://localhost:8080/",
     "height": 72
    },
    "id": "TYotkDxG-kkP",
    "outputId": "b164d043-d351-449e-8df9-ee3673a57658"
   },
   "outputs": [],
   "source": [
    "import numpy as np\n",
    "np.random.seed(0)\n",
    "\n",
    "\n",
    "# Affine Transform\n",
    "# |x'|  = |a, b| * |x|  +  |tx|\n",
    "# |y'|    |c, d|   |y|     |ty|\n",
    "# pts_t =    A   * pts_s  + t\n",
    "\n",
    "# -------------------------------------------------------------\n",
    "# Test Class Affine\n",
    "\n",
    "class Affine_Transform():\n",
    "\n",
    "    def create_test_case(self, outlier_rate=0):\n",
    "        ''' CREATE_TEST_CASE\n",
    "\n",
    "            Randomly generate a test case of affine transformation.\n",
    "\n",
    "            Input arguments:\n",
    "\n",
    "            - outlier_rate : the percentage of outliers in test case,\n",
    "            default is 0\n",
    "\n",
    "            Outputs:\n",
    "\n",
    "            - pts_s : Source points that will be transformed\n",
    "            - pts_t : warped points\n",
    "            - A, t : parameters of affine transformation, A is a 2x2\n",
    "            matrix, t is a 2x1 vector, both of them are created randomly\n",
    "\n",
    "        '''\n",
    "\n",
    "        # Randomly generate affine transformation\n",
    "        # A is a 2x2 matrix, the range of each value is from -2 to 2\n",
    "        A = 4 * np.random.rand(2, 2) - 2\n",
    "\n",
    "        # % t is a 2x1 VECTOR, the range of each value is from -10 to 10\n",
    "        t = 20 * np.random.rand(2, 1) - 10\n",
    "\n",
    "        # Set the number of points in test case\n",
    "        num = 1000\n",
    "\n",
    "        # Compute the number of outliers and inliers respectively\n",
    "        outliers = int(np.round(num * outlier_rate))\n",
    "        inliers = int(num - outliers)\n",
    "\n",
    "        # Gernerate source points whose scope from (0,0) to (100, 100)\n",
    "        pts_s = 100 * np.random.rand(2, num)\n",
    "        # Initialize warped points matrix\n",
    "        pts_t = np.zeros((2, num))\n",
    "\n",
    "        # Compute inliers in warped points matrix by applying A and t\n",
    "        pts_t[:, :inliers] = np.dot(A, pts_s[:, :inliers]) + t\n",
    "\n",
    "        # Generate outliers in warped points matrix\n",
    "        pts_t[:, inliers:] = 100 * np.random.rand(2, outliers)\n",
    "\n",
    "        # Reset the order of warped points matrix,\n",
    "        # outliers and inliers will scatter randomly in test case\n",
    "        rnd_idx = np.random.permutation(num)\n",
    "        pts_s = pts_s[:, rnd_idx]\n",
    "        pts_t = pts_t[:, rnd_idx]\n",
    "\n",
    "        return A, t, pts_s, pts_t\n",
    "\n",
    "    def estimate_affine(self, pts_s, pts_t):\n",
    "        ''' ESTIMATE_AFFINE\n",
    "\n",
    "            Estimate affine transformation by the given points\n",
    "            correspondences.\n",
    "\n",
    "            Input arguments:\n",
    "            - pts_t : points in target image\n",
    "            - pts_s : points in source image\n",
    "\n",
    "            Outputs:\n",
    "\n",
    "            - A, t : the affine transformation, A is a 2x2 matrix\n",
    "            that indicates the rotation and scaling transformation,\n",
    "            t is a 2x1 vector determines the translation\n",
    "\n",
    "            Method:\n",
    "\n",
    "            To estimate an affine transformation between two images,\n",
    "            at least 3 corresponding points are needed.\n",
    "            In this case, 6-parameter affine transformation are taken into\n",
    "            consideration, which is shown as follows:\n",
    "\n",
    "            | x' | = | a b | * | x | + | tx |\n",
    "            | y' |   | c d |   | y |   | ty |\n",
    "\n",
    "            For 3 corresponding points, 6 equations can be formed as below:\n",
    "\n",
    "            | x1 y1 0  0  1 0 |       | a  |       | x1' |\n",
    "            | 0  0  x1 y1 0 1 |       | b  |       | y1' |\n",
    "            | x2 y2 0  0  1 0 |   *   | c  |   =   | x2' |\n",
    "            | 0  0  x2 y2 0 1 |       | d  |       | y2' |\n",
    "            | x3 y3 0  0  1 0 |       | tx |       | x3' |\n",
    "            | 0  0  x3 y3 0 1 |       | ty |       | y3' |\n",
    "\n",
    "            |------> M <------|   |-> theta <-|   |-> b <-|\n",
    "\n",
    "            Solve the equation to compute theta by:  theta = M \\ b\n",
    "            Thus, affine transformation can be obtained as:\n",
    "\n",
    "            A = | a b |     t = | tx |\n",
    "                | c d |         | ty |\n",
    "\n",
    "        '''\n",
    "\n",
    "        # Get the number of corresponding points\n",
    "        pts_num = pts_s.shape[1]\n",
    "\n",
    "        # Initialize the matrix M,\n",
    "        # M has 6 columns, since the affine transformation\n",
    "        # has 6 parameters in this case\n",
    "        M = np.zeros((2 * pts_num, 6))\n",
    "\n",
    "        for i in range(pts_num):\n",
    "            # Form the matrix m\n",
    "            temp = [[pts_s[0, i], pts_s[1, i], 0, 0, 1, 0],\n",
    "                    [0, 0, pts_s[0, i], pts_s[1, i], 0, 1]]\n",
    "            M[2 * i: 2 * i + 2, :] = np.array(temp)\n",
    "\n",
    "        # Form the matrix b,\n",
    "        # b contains all known target points\n",
    "        b = pts_t.T.reshape((2 * pts_num, 1))\n",
    "\n",
    "        try:\n",
    "            # Solve the linear equation\n",
    "            theta = np.linalg.lstsq(M, b)[0]\n",
    "\n",
    "            # Form the affine transformation\n",
    "            A = theta[:4].reshape((2, 2))\n",
    "            t = theta[4:]\n",
    "        except np.linalg.linalg.LinAlgError:\n",
    "            # If M is singular matrix, return None\n",
    "            # print(\"Singular matrix.\")\n",
    "            A = None\n",
    "            t = None\n",
    "\n",
    "        return A, t\n",
    "# -------------------------------------------------------------\n",
    "\n",
    "# Create instance\n",
    "af = Affine_Transform()\n",
    "\n",
    "# Generate a test case as validation with\n",
    "# a rate of outliers\n",
    "outlier_rate = 0.90\n",
    "A_true, t_true, pts_s, pts_t = af.create_test_case(outlier_rate)\n",
    "\n",
    "# At least 3 corresponding points to\n",
    "# estimate affine transformation\n",
    "K = 3\n",
    "# Randomly select 3 pairs of points to do estimation\n",
    "idx = np.random.randint(0, pts_s.shape[1], (K, 1))\n",
    "\n",
    "A_test, t_test = af.estimate_affine(pts_s[:, idx], pts_t[:, idx])\n",
    "\n",
    "# Display known parameters with estimations\n",
    "# They should be same when outlier_rate equals to 0,\n",
    "# otherwise, they are totally different in some cases\n",
    "#print(A_true, '\\n', t_true)\n",
    "#print(A_test, '\\n', t_test)\n",
    "\n",
    "# -------------------------------------------------------------\n",
    "# Test Class Ransac\n",
    "# The number of iterations in RANSAC\n",
    "ITER_NUM = 2000\n",
    "\n",
    "\n",
    "class Ransac():\n",
    "\n",
    "    def __init__(self, K=3, threshold=1):\n",
    "        ''' __INIT__\n",
    "\n",
    "            Initialize the instance.\n",
    "\n",
    "            Input argements:\n",
    "\n",
    "            - K : the number of corresponding points,\n",
    "            default is 3\n",
    "            - threshold : determing which points are inliers\n",
    "            by comparing residual with it\n",
    "\n",
    "        '''\n",
    "\n",
    "        self.K = K\n",
    "        self.threshold = threshold\n",
    "\n",
    "    def residual_lengths(self, A, t, pts_s, pts_t):\n",
    "        ''' RESIDUAL_LENGTHS\n",
    "\n",
    "            Compute residual length (Euclidean distance) between\n",
    "            estimation and real target points. Estimation are\n",
    "            calculated by the given source point and affine\n",
    "            transformation (A & t).\n",
    "\n",
    "            Input arguments:\n",
    "\n",
    "            - A, t : the estimated affine transformation calculated\n",
    "            by least squares method\n",
    "            - pts_s : key points from source image\n",
    "            - pts_t : key points from target image\n",
    "\n",
    "            Output:\n",
    "\n",
    "            - residual : Euclidean distance between estimated points\n",
    "            and real target points\n",
    "\n",
    "        '''\n",
    "\n",
    "        if not(A is None) and not(t is None):\n",
    "            # Calculate estimated points:\n",
    "            # pts_e = A * pts_s + t\n",
    "            pts_e = np.dot(A, pts_s) + t\n",
    "\n",
    "            # Calculate the residual length between estimated points\n",
    "            # and target points\n",
    "            diff_square = np.power(pts_e - pts_t, 2)\n",
    "            residual = np.sqrt(np.sum(diff_square, axis=0))\n",
    "        else:\n",
    "            residual = None\n",
    "\n",
    "        return residual\n",
    "\n",
    "    def ransac_fit(self, pts_s, pts_t):\n",
    "        ''' RANSAC_FIT\n",
    "\n",
    "            Apply the method of RANSAC to obtain the estimation of\n",
    "            affine transformation and inliers as well.\n",
    "\n",
    "            Input arguments:\n",
    "\n",
    "            - pts_s : key points from source image\n",
    "            - pts_t : key points from target image\n",
    "\n",
    "            Output:\n",
    "\n",
    "            - A, t : estimated affine transformation\n",
    "            - inliers : indices of inliers that will be applied to refine the\n",
    "            affine transformation\n",
    "\n",
    "        '''\n",
    "        #### YOUR CODE START HERE\n",
    "\n",
    "\n",
    "        \n",
    "        #### YOUR CODE ENDS HERE\n",
    "# -------------------------------------------------------------\n",
    "\n",
    "# Create instance\n",
    "rs = Ransac(K=3, threshold=1)\n",
    "\n",
    "residual = rs.residual_lengths(A_test, t_test, pts_s, pts_t)\n",
    "\n",
    "# Run RANSAC to estimate affine transformation when\n",
    "# too many outliers in points set\n",
    "A_rsc, t_rsc, inliers = rs.ransac_fit(pts_s, pts_t)\n",
    "\n",
    "# print the number of inliners or point matches\n",
    "print (inliers[0].shape)\n"
   ]
  },
  {
   "cell_type": "markdown",
   "metadata": {
    "id": "vnf_pn2N-vS7"
   },
   "source": [
    "### Question 3: Detect corners in a given image using Harris Corner Detection Algorithm\n",
    "\n",
    "Find the number of detected corner points in a given image using Harris Corner Detection Algorithm. Note that, Following criterion MUST be satisfied while applying Harris Corner detection Algorithm:\n",
    "\n",
    "(a)  The size of neighbourhood considered for corner detection = 2.\n",
    "(b)  Aperture parameter of Sobel derivative used = 3.\n",
    "(c)  Harris detector free parameter in the equation = 0.04.\n",
    "\n",
    "How many corners are detected?\n",
    "\n",
    "1.   169\n",
    "2.   222\n",
    "3.   264\n",
    "4.   309\n"
   ]
  },
  {
   "cell_type": "code",
   "execution_count": null,
   "metadata": {
    "id": "LQSynG8c-0y4"
   },
   "outputs": [],
   "source": [
    "import matplotlib.pyplot as plt\n",
    "import numpy as np\n",
    "import cv2\n",
    "\n",
    "%matplotlib inline\n",
    "\n",
    "# Read in the image\n",
    "image = cv2.imread('line.png')\n",
    "\n",
    "# Make a copy of the image\n",
    "image_copy = np.copy(image)\n",
    "\n",
    "# Change color to RGB (from BGR)\n",
    "image_copy = cv2.cvtColor(image_copy, cv2.COLOR_BGR2RGB)\n",
    "\n",
    "###YOUR CODE STARTS HERE\n",
    "\n",
    "## STEP 1:  Convert to grayscale \n",
    "\n",
    "## STEP 2: Detect corners \n",
    "\n",
    "## STEP 3: Dilate corner image to enhance corner points\n",
    "\n",
    "## STEP 4:set threshold value as 0.1 * (maximum value of dilated corner image obtained from STEP3)\n",
    "\n",
    "## STEP 5: Count numer of detected corner points and draw them on the image\n",
    "\n",
    "\n",
    "### YOUR CODE ENDS HERE"
   ]
  },
  {
   "cell_type": "markdown",
   "metadata": {
    "id": "hXrQtCnwhz5J"
   },
   "source": [
    "# Part-2"
   ]
  },
  {
   "cell_type": "code",
   "execution_count": 1,
   "metadata": {
    "id": "FVEgO_bNhLtx"
   },
   "outputs": [],
   "source": [
    "import numpy as np\n",
    "import torch\n",
    "import torch.nn as nn\n",
    "import torch.optim as optim\n",
    "from torchvision import datasets, transforms\n",
    "import torch.nn.functional as F\n",
    "import timeit\n",
    "import unittest\n",
    "\n",
    "## Please DONOT remove these lines. \n",
    "torch.manual_seed(0)\n",
    "torch.backends.cudnn.deterministic = True\n",
    "torch.backends.cudnn.benchmark = False\n",
    "np.random.seed(0)"
   ]
  },
  {
   "cell_type": "markdown",
   "metadata": {
    "id": "mc4Nl4gCLyiN"
   },
   "source": [
    "### Data Loading and Pre-processing"
   ]
  },
  {
   "cell_type": "code",
   "execution_count": 45,
   "metadata": {
    "id": "ECXvC1tUhpPA"
   },
   "outputs": [
    {
     "name": "stdout",
     "output_type": "stream",
     "text": [
      "cuda\n",
      "1.6.0\n"
     ]
    }
   ],
   "source": [
    "# check availability of GPU and set the device accordingly\n",
    "#### YOUR CODE STARTS HERE ####\n",
    "device = torch.device(\"cuda\")\n",
    "print(device)\n",
    "print(torch.__version__)\n",
    "#### YOUR CODE ENDS HERE ####\n",
    "\n",
    "# define a transforms for preparing the dataset\n",
    "transform = transforms.Compose([\n",
    "        transforms.ToTensor(), # convert the image to a pytorch tensor\n",
    "        transforms.Normalize((0.1307,), (0.3081,)) # normalise the images with mean and std of the dataset\n",
    "        ])"
   ]
  },
  {
   "cell_type": "code",
   "execution_count": 30,
   "metadata": {
    "id": "1e88bU4vhtdG"
   },
   "outputs": [
    {
     "name": "stdout",
     "output_type": "stream",
     "text": [
      "60000\n",
      "10000\n",
      "torch.Size([1, 28, 28])\n"
     ]
    }
   ],
   "source": [
    "import torchvision\n",
    "# Load the MNIST training, test datasets using `torchvision.datasets.MNIST` using the transform defined above\n",
    "#### YOUR CODE STARTS HERE ####\n",
    "train_dataset = torchvision.datasets.MNIST(root = \"./data\", train = True, download=True, transform=transform)\n",
    "test_dataset = torchvision.datasets.MNIST(root = \"./data\", train = False, download=True, transform=transform)\n",
    "\n",
    "print(len(train_dataset))\n",
    "print(len(test_dataset))\n",
    "print(train_dataset[0][0].size())\n",
    "#### YOUR CODE ENDS HERE ####"
   ]
  },
  {
   "cell_type": "code",
   "execution_count": 31,
   "metadata": {
    "id": "r2eBGz9OhvD1"
   },
   "outputs": [],
   "source": [
    "# create dataloaders for training and test datasets\n",
    "# use a batch size of 32 and set shuffle=True for the training set\n",
    "#### YOUR CODE STARTS HERE ####\n",
    "train_dataloader = torch.utils.data.DataLoader(train_dataset, batch_size=32, shuffle=True)\n",
    "test_dataloader = torch.utils.data.DataLoader(test_dataset, batch_size=32, shuffle=True)\n",
    "#### YOUR CODE ENDS HERE ####"
   ]
  },
  {
   "cell_type": "markdown",
   "metadata": {
    "id": "CFfzN-oaL762"
   },
   "source": [
    "*italicised text*### Network Definition"
   ]
  },
  {
   "cell_type": "code",
   "execution_count": 72,
   "metadata": {
    "id": "FPQMmDKbhwy9"
   },
   "outputs": [],
   "source": [
    "class Net(nn.Module):\n",
    "    def __init__(self):\n",
    "        super(Net, self).__init__()\n",
    "        #### YOUR CODE STARTS HERE ####\n",
    "        # define a conv layer with output channels as 16, kernel size of 3 and stride of 1\n",
    "        self.conv1 = nn.Conv2d(1, 16, 3, stride=1)\n",
    "        # define a conv layer with output channels as 32, kernel size of 3 and stride of 1\n",
    "        self.conv2 = nn.Conv2d(16, 32, 3, stride=1)\n",
    "        # define a conv layer with output channels as 64, kernel size of 3 and stride of 1\n",
    "        self.conv3 = nn.Conv2d(32, 64, 3, stride=1)\n",
    "        # define a max pooling layer with kernel size 2\n",
    "        self.maxpool = nn.MaxPool2d(2, stride=2)\n",
    "        # define dropout layer with a probability of 0.25\n",
    "        self.dropout1 = nn.Dropout(p=0.25)\n",
    "        # define dropout layer with a probability of 0.5\n",
    "        self.dropout2 = nn.Dropout(p=0.5)\n",
    "        # define a linear(dense) layer with 128 output features\n",
    "        self.fc1 = nn.Linear(in_features=64*11*11, out_features=128)\n",
    "        # define a linear(dense) layer with output features corresponding to the number of classes in the dataset\n",
    "        self.fc2 = nn.Linear(128,10)\n",
    "        self.act = nn.ReLU()\n",
    "        #### YOUR CODE ENDS HERE ####\n",
    "\n",
    "    def forward(self, x):\n",
    "        # Use the layers defined above in a sequential way (folow the same as the layer definitions above) and \n",
    "        # write the forward pass, after each of conv1, conv2, conv3 and fc1 use a relu activation. \n",
    "        #### YOUR CODE STARTS HERE ####\n",
    "        x = self.act(self.conv1(x))\n",
    "        x = self.act(self.conv2(x))\n",
    "        x = self.act(self.conv3(x))\n",
    "        x = self.maxpool(x)\n",
    "        x = self.dropout1(x)\n",
    "        x = self.dropout2(x)\n",
    "        x = x.reshape(x.size(0), -1)\n",
    "        #print(x.size())\n",
    "        x = self.act(self.fc1(x))\n",
    "        x = self.fc2(x)\n",
    "        #### YOUR CODE ENDS HERE ####\n",
    "        output = F.log_softmax(x, dim=1)\n",
    "        return output"
   ]
  },
  {
   "cell_type": "markdown",
   "metadata": {
    "id": "o_8IZKqGiAhM"
   },
   "source": [
    "### Sanity Check\n",
    "Make sure all the tests below pass without any errors, before you proceed with the training part."
   ]
  },
  {
   "cell_type": "code",
   "execution_count": 73,
   "metadata": {
    "id": "KAiwx-TSyPK6"
   },
   "outputs": [
    {
     "name": "stderr",
     "output_type": "stream",
     "text": [
      "...\n",
      "----------------------------------------------------------------------\n",
      "Ran 3 tests in 0.032s\n",
      "\n",
      "OK\n"
     ]
    },
    {
     "data": {
      "text/plain": [
       "<unittest.runner.TextTestResult run=3 errors=0 failures=0>"
      ]
     },
     "execution_count": 73,
     "metadata": {},
     "output_type": "execute_result"
    }
   ],
   "source": [
    "import unittest\n",
    "\n",
    "class TestImplementations(unittest.TestCase):\n",
    "    \n",
    "    # Dataloading tests\n",
    "    def test_dataset(self):\n",
    "        self.dataset_classes = ['0 - zero',\n",
    "                                '1 - one',\n",
    "                                '2 - two',\n",
    "                                '3 - three',\n",
    "                                '4 - four',\n",
    "                                '5 - five',\n",
    "                                '6 - six',\n",
    "                                '7 - seven',\n",
    "                                '8 - eight',\n",
    "                                '9 - nine']\n",
    "        self.assertTrue(train_dataset.classes == self.dataset_classes)\n",
    "        self.assertTrue(train_dataset.train == True)\n",
    "    \n",
    "    def test_dataloader(self):        \n",
    "        self.assertTrue(train_dataloader.batch_size == 32)\n",
    "        self.assertTrue(test_dataloader.batch_size == 32)      \n",
    "         \n",
    "    def test_total_parameters(self):\n",
    "        model = Net().to(device)\n",
    "        self.assertTrue(sum(p.numel() for p in model.parameters()) == 1015946)\n",
    "\n",
    "suite = unittest.TestLoader().loadTestsFromModule(TestImplementations())\n",
    "unittest.TextTestRunner().run(suite)"
   ]
  },
  {
   "cell_type": "markdown",
   "metadata": {
    "id": "-GkrWn_dfVyo"
   },
   "source": [
    "### Training and Inference"
   ]
  },
  {
   "cell_type": "code",
   "execution_count": 74,
   "metadata": {
    "id": "IIdgIfkAGXi9"
   },
   "outputs": [],
   "source": [
    "def train(model, device, train_loader, optimizer, epoch):\n",
    "    model.train()\n",
    "    for batch_idx, (data, target) in enumerate(train_loader):\n",
    "      #### YOUR CODE STARTS HERE ####\n",
    "        # send the image, target to the device\n",
    "        data = data.to(device)\n",
    "        target = target.to(device)\n",
    "        # flush out the gradients stored in optimizer\n",
    "        model.zero_grad()\n",
    "        # pass the image to the model and assign the output to variable named output\n",
    "        output = model(data)\n",
    "        # calculate the loss (use nll_loss in pytorch)\n",
    "        loss = nn.NLLLoss()(output, target)\n",
    "        # do a backward pass\n",
    "        loss.backward()\n",
    "        # update the weights\n",
    "        optimizer.step()\n",
    "      #### YOUR CODE ENDS HERE ####\n",
    "        if batch_idx % 20 == 0:\n",
    "            print('Train Epoch: {} [{}/{} ({:.0f}%)]\\tLoss: {:.6f}'.format(\n",
    "                epoch, batch_idx * len(data), len(train_loader.dataset),\n",
    "                100. * batch_idx / len(train_loader), loss.item()))"
   ]
  },
  {
   "cell_type": "code",
   "execution_count": 75,
   "metadata": {
    "id": "jWEpNBtdHVWr"
   },
   "outputs": [],
   "source": [
    "def test(model, device, test_loader):\n",
    "    model.eval()\n",
    "    test_loss = 0\n",
    "    correct = 0\n",
    "    with torch.no_grad():\n",
    "        for data, target in test_loader:\n",
    "          ### YOUR CODE STARTS HERE ####\n",
    "            # send the image, target to the device\n",
    "            data = data.to(device)\n",
    "            target = target.to(device)\n",
    "            # pass the image to the model and assign the output to variable named output\n",
    "            output = model(data)\n",
    "            test_loss += nn.NLLLoss()(output, target).item()# sum up batch loss\n",
    "          #### YOUR CODE ENDS HERE ####\n",
    "            pred = output.argmax(dim=1, keepdim=True)  # get the index of the max log-probability\n",
    "            correct += pred.eq(target.view_as(pred)).sum().item()\n",
    "\n",
    "    test_loss /= len(test_loader.dataset)\n",
    "\n",
    "    print('\\nTest set: Average loss: {:.4f}, Accuracy: {}/{} ({:.0f}%)\\n'.format(\n",
    "        test_loss, correct, len(test_loader.dataset),\n",
    "        100. * correct / len(test_loader.dataset)))"
   ]
  },
  {
   "cell_type": "markdown",
   "metadata": {
    "id": "m02MLg2mxRwB"
   },
   "source": [
    "### Question 4\n",
    "\n",
    "Run the code cell below and report the final test accuracy (If you are not getting the exact number shown in options, please report the closest number).\n",
    "1. 64%\n",
    "2. 79%\n",
    "3. 97%\n",
    "4. 90%"
   ]
  },
  {
   "cell_type": "code",
   "execution_count": 76,
   "metadata": {
    "id": "MRebLHiriRsu"
   },
   "outputs": [
    {
     "ename": "TypeError",
     "evalue": "conv2d(): argument 'input' (position 1) must be Tensor, not ReLU",
     "output_type": "error",
     "traceback": [
      "\u001b[1;31m---------------------------------------------------------------------------\u001b[0m",
      "\u001b[1;31mTypeError\u001b[0m                                 Traceback (most recent call last)",
      "\u001b[1;32m<ipython-input-76-d6fa70b333b6>\u001b[0m in \u001b[0;36m<module>\u001b[1;34m\u001b[0m\n\u001b[0;32m      6\u001b[0m \u001b[0mstart\u001b[0m \u001b[1;33m=\u001b[0m \u001b[0mtimeit\u001b[0m\u001b[1;33m.\u001b[0m\u001b[0mdefault_timer\u001b[0m\u001b[1;33m(\u001b[0m\u001b[1;33m)\u001b[0m\u001b[1;33m\u001b[0m\u001b[1;33m\u001b[0m\u001b[0m\n\u001b[0;32m      7\u001b[0m \u001b[1;32mfor\u001b[0m \u001b[0mepoch\u001b[0m \u001b[1;32min\u001b[0m \u001b[0mrange\u001b[0m\u001b[1;33m(\u001b[0m\u001b[1;36m1\u001b[0m\u001b[1;33m,\u001b[0m \u001b[1;36m11\u001b[0m\u001b[1;33m)\u001b[0m\u001b[1;33m:\u001b[0m\u001b[1;33m\u001b[0m\u001b[1;33m\u001b[0m\u001b[0m\n\u001b[1;32m----> 8\u001b[1;33m     \u001b[0mtrain\u001b[0m\u001b[1;33m(\u001b[0m\u001b[0mmodel\u001b[0m\u001b[1;33m,\u001b[0m \u001b[0mdevice\u001b[0m\u001b[1;33m,\u001b[0m \u001b[0mtrain_dataloader\u001b[0m\u001b[1;33m,\u001b[0m \u001b[0moptimizer\u001b[0m\u001b[1;33m,\u001b[0m \u001b[0mepoch\u001b[0m\u001b[1;33m)\u001b[0m\u001b[1;33m\u001b[0m\u001b[1;33m\u001b[0m\u001b[0m\n\u001b[0m\u001b[0;32m      9\u001b[0m     \u001b[0mtest\u001b[0m\u001b[1;33m(\u001b[0m\u001b[0mmodel\u001b[0m\u001b[1;33m,\u001b[0m \u001b[0mdevice\u001b[0m\u001b[1;33m,\u001b[0m \u001b[0mtest_dataloader\u001b[0m\u001b[1;33m)\u001b[0m\u001b[1;33m\u001b[0m\u001b[1;33m\u001b[0m\u001b[0m\n\u001b[0;32m     10\u001b[0m \u001b[0mstop\u001b[0m \u001b[1;33m=\u001b[0m \u001b[0mtimeit\u001b[0m\u001b[1;33m.\u001b[0m\u001b[0mdefault_timer\u001b[0m\u001b[1;33m(\u001b[0m\u001b[1;33m)\u001b[0m\u001b[1;33m\u001b[0m\u001b[1;33m\u001b[0m\u001b[0m\n",
      "\u001b[1;32m<ipython-input-74-269abfa4ca9b>\u001b[0m in \u001b[0;36mtrain\u001b[1;34m(model, device, train_loader, optimizer, epoch)\u001b[0m\n\u001b[0;32m      9\u001b[0m         \u001b[0mmodel\u001b[0m\u001b[1;33m.\u001b[0m\u001b[0mzero_grad\u001b[0m\u001b[1;33m(\u001b[0m\u001b[1;33m)\u001b[0m\u001b[1;33m\u001b[0m\u001b[1;33m\u001b[0m\u001b[0m\n\u001b[0;32m     10\u001b[0m         \u001b[1;31m# pass the image to the model and assign the output to variable named output\u001b[0m\u001b[1;33m\u001b[0m\u001b[1;33m\u001b[0m\u001b[1;33m\u001b[0m\u001b[0m\n\u001b[1;32m---> 11\u001b[1;33m         \u001b[0moutput\u001b[0m \u001b[1;33m=\u001b[0m \u001b[0mmodel\u001b[0m\u001b[1;33m(\u001b[0m\u001b[0mdata\u001b[0m\u001b[1;33m)\u001b[0m\u001b[1;33m\u001b[0m\u001b[1;33m\u001b[0m\u001b[0m\n\u001b[0m\u001b[0;32m     12\u001b[0m         \u001b[1;31m# calculate the loss (use nll_loss in pytorch)\u001b[0m\u001b[1;33m\u001b[0m\u001b[1;33m\u001b[0m\u001b[1;33m\u001b[0m\u001b[0m\n\u001b[0;32m     13\u001b[0m         \u001b[0mloss\u001b[0m \u001b[1;33m=\u001b[0m \u001b[0mnn\u001b[0m\u001b[1;33m.\u001b[0m\u001b[0mNLLLoss\u001b[0m\u001b[1;33m(\u001b[0m\u001b[1;33m)\u001b[0m\u001b[1;33m(\u001b[0m\u001b[0moutput\u001b[0m\u001b[1;33m,\u001b[0m \u001b[0mtarget\u001b[0m\u001b[1;33m)\u001b[0m\u001b[1;33m\u001b[0m\u001b[1;33m\u001b[0m\u001b[0m\n",
      "\u001b[1;32m~\\anaconda3\\envs\\carnd-gpu1\\lib\\site-packages\\torch\\nn\\modules\\module.py\u001b[0m in \u001b[0;36m_call_impl\u001b[1;34m(self, *input, **kwargs)\u001b[0m\n\u001b[0;32m    720\u001b[0m             \u001b[0mresult\u001b[0m \u001b[1;33m=\u001b[0m \u001b[0mself\u001b[0m\u001b[1;33m.\u001b[0m\u001b[0m_slow_forward\u001b[0m\u001b[1;33m(\u001b[0m\u001b[1;33m*\u001b[0m\u001b[0minput\u001b[0m\u001b[1;33m,\u001b[0m \u001b[1;33m**\u001b[0m\u001b[0mkwargs\u001b[0m\u001b[1;33m)\u001b[0m\u001b[1;33m\u001b[0m\u001b[1;33m\u001b[0m\u001b[0m\n\u001b[0;32m    721\u001b[0m         \u001b[1;32melse\u001b[0m\u001b[1;33m:\u001b[0m\u001b[1;33m\u001b[0m\u001b[1;33m\u001b[0m\u001b[0m\n\u001b[1;32m--> 722\u001b[1;33m             \u001b[0mresult\u001b[0m \u001b[1;33m=\u001b[0m \u001b[0mself\u001b[0m\u001b[1;33m.\u001b[0m\u001b[0mforward\u001b[0m\u001b[1;33m(\u001b[0m\u001b[1;33m*\u001b[0m\u001b[0minput\u001b[0m\u001b[1;33m,\u001b[0m \u001b[1;33m**\u001b[0m\u001b[0mkwargs\u001b[0m\u001b[1;33m)\u001b[0m\u001b[1;33m\u001b[0m\u001b[1;33m\u001b[0m\u001b[0m\n\u001b[0m\u001b[0;32m    723\u001b[0m         for hook in itertools.chain(\n\u001b[0;32m    724\u001b[0m                 \u001b[0m_global_forward_hooks\u001b[0m\u001b[1;33m.\u001b[0m\u001b[0mvalues\u001b[0m\u001b[1;33m(\u001b[0m\u001b[1;33m)\u001b[0m\u001b[1;33m,\u001b[0m\u001b[1;33m\u001b[0m\u001b[1;33m\u001b[0m\u001b[0m\n",
      "\u001b[1;32m<ipython-input-72-b26fb32cc1ce>\u001b[0m in \u001b[0;36mforward\u001b[1;34m(self, x)\u001b[0m\n\u001b[0;32m     27\u001b[0m         \u001b[0mx\u001b[0m \u001b[1;33m=\u001b[0m \u001b[0mself\u001b[0m\u001b[1;33m.\u001b[0m\u001b[0mconv1\u001b[0m\u001b[1;33m(\u001b[0m\u001b[0mx\u001b[0m\u001b[1;33m)\u001b[0m\u001b[1;33m\u001b[0m\u001b[1;33m\u001b[0m\u001b[0m\n\u001b[0;32m     28\u001b[0m         \u001b[0mx\u001b[0m \u001b[1;33m=\u001b[0m \u001b[0mnn\u001b[0m\u001b[1;33m.\u001b[0m\u001b[0mReLU\u001b[0m\u001b[1;33m(\u001b[0m\u001b[0mx\u001b[0m\u001b[1;33m)\u001b[0m\u001b[1;33m\u001b[0m\u001b[1;33m\u001b[0m\u001b[0m\n\u001b[1;32m---> 29\u001b[1;33m         \u001b[0mx\u001b[0m \u001b[1;33m=\u001b[0m \u001b[0mself\u001b[0m\u001b[1;33m.\u001b[0m\u001b[0mconv2\u001b[0m\u001b[1;33m(\u001b[0m\u001b[0mx\u001b[0m\u001b[1;33m)\u001b[0m\u001b[1;33m\u001b[0m\u001b[1;33m\u001b[0m\u001b[0m\n\u001b[0m\u001b[0;32m     30\u001b[0m         \u001b[0mx\u001b[0m \u001b[1;33m=\u001b[0m \u001b[0mnn\u001b[0m\u001b[1;33m.\u001b[0m\u001b[0mReLU\u001b[0m\u001b[1;33m(\u001b[0m\u001b[0mx\u001b[0m\u001b[1;33m)\u001b[0m\u001b[1;33m\u001b[0m\u001b[1;33m\u001b[0m\u001b[0m\n\u001b[0;32m     31\u001b[0m         \u001b[0mx\u001b[0m \u001b[1;33m=\u001b[0m \u001b[0mself\u001b[0m\u001b[1;33m.\u001b[0m\u001b[0mconv3\u001b[0m\u001b[1;33m(\u001b[0m\u001b[0mx\u001b[0m\u001b[1;33m)\u001b[0m\u001b[1;33m\u001b[0m\u001b[1;33m\u001b[0m\u001b[0m\n",
      "\u001b[1;32m~\\anaconda3\\envs\\carnd-gpu1\\lib\\site-packages\\torch\\nn\\modules\\module.py\u001b[0m in \u001b[0;36m_call_impl\u001b[1;34m(self, *input, **kwargs)\u001b[0m\n\u001b[0;32m    720\u001b[0m             \u001b[0mresult\u001b[0m \u001b[1;33m=\u001b[0m \u001b[0mself\u001b[0m\u001b[1;33m.\u001b[0m\u001b[0m_slow_forward\u001b[0m\u001b[1;33m(\u001b[0m\u001b[1;33m*\u001b[0m\u001b[0minput\u001b[0m\u001b[1;33m,\u001b[0m \u001b[1;33m**\u001b[0m\u001b[0mkwargs\u001b[0m\u001b[1;33m)\u001b[0m\u001b[1;33m\u001b[0m\u001b[1;33m\u001b[0m\u001b[0m\n\u001b[0;32m    721\u001b[0m         \u001b[1;32melse\u001b[0m\u001b[1;33m:\u001b[0m\u001b[1;33m\u001b[0m\u001b[1;33m\u001b[0m\u001b[0m\n\u001b[1;32m--> 722\u001b[1;33m             \u001b[0mresult\u001b[0m \u001b[1;33m=\u001b[0m \u001b[0mself\u001b[0m\u001b[1;33m.\u001b[0m\u001b[0mforward\u001b[0m\u001b[1;33m(\u001b[0m\u001b[1;33m*\u001b[0m\u001b[0minput\u001b[0m\u001b[1;33m,\u001b[0m \u001b[1;33m**\u001b[0m\u001b[0mkwargs\u001b[0m\u001b[1;33m)\u001b[0m\u001b[1;33m\u001b[0m\u001b[1;33m\u001b[0m\u001b[0m\n\u001b[0m\u001b[0;32m    723\u001b[0m         for hook in itertools.chain(\n\u001b[0;32m    724\u001b[0m                 \u001b[0m_global_forward_hooks\u001b[0m\u001b[1;33m.\u001b[0m\u001b[0mvalues\u001b[0m\u001b[1;33m(\u001b[0m\u001b[1;33m)\u001b[0m\u001b[1;33m,\u001b[0m\u001b[1;33m\u001b[0m\u001b[1;33m\u001b[0m\u001b[0m\n",
      "\u001b[1;32m~\\anaconda3\\envs\\carnd-gpu1\\lib\\site-packages\\torch\\nn\\modules\\conv.py\u001b[0m in \u001b[0;36mforward\u001b[1;34m(self, input)\u001b[0m\n\u001b[0;32m    417\u001b[0m \u001b[1;33m\u001b[0m\u001b[0m\n\u001b[0;32m    418\u001b[0m     \u001b[1;32mdef\u001b[0m \u001b[0mforward\u001b[0m\u001b[1;33m(\u001b[0m\u001b[0mself\u001b[0m\u001b[1;33m,\u001b[0m \u001b[0minput\u001b[0m\u001b[1;33m:\u001b[0m \u001b[0mTensor\u001b[0m\u001b[1;33m)\u001b[0m \u001b[1;33m->\u001b[0m \u001b[0mTensor\u001b[0m\u001b[1;33m:\u001b[0m\u001b[1;33m\u001b[0m\u001b[1;33m\u001b[0m\u001b[0m\n\u001b[1;32m--> 419\u001b[1;33m         \u001b[1;32mreturn\u001b[0m \u001b[0mself\u001b[0m\u001b[1;33m.\u001b[0m\u001b[0m_conv_forward\u001b[0m\u001b[1;33m(\u001b[0m\u001b[0minput\u001b[0m\u001b[1;33m,\u001b[0m \u001b[0mself\u001b[0m\u001b[1;33m.\u001b[0m\u001b[0mweight\u001b[0m\u001b[1;33m)\u001b[0m\u001b[1;33m\u001b[0m\u001b[1;33m\u001b[0m\u001b[0m\n\u001b[0m\u001b[0;32m    420\u001b[0m \u001b[1;33m\u001b[0m\u001b[0m\n\u001b[0;32m    421\u001b[0m \u001b[1;32mclass\u001b[0m \u001b[0mConv3d\u001b[0m\u001b[1;33m(\u001b[0m\u001b[0m_ConvNd\u001b[0m\u001b[1;33m)\u001b[0m\u001b[1;33m:\u001b[0m\u001b[1;33m\u001b[0m\u001b[1;33m\u001b[0m\u001b[0m\n",
      "\u001b[1;32m~\\anaconda3\\envs\\carnd-gpu1\\lib\\site-packages\\torch\\nn\\modules\\conv.py\u001b[0m in \u001b[0;36m_conv_forward\u001b[1;34m(self, input, weight)\u001b[0m\n\u001b[0;32m    414\u001b[0m                             _pair(0), self.dilation, self.groups)\n\u001b[0;32m    415\u001b[0m         return F.conv2d(input, weight, self.bias, self.stride,\n\u001b[1;32m--> 416\u001b[1;33m                         self.padding, self.dilation, self.groups)\n\u001b[0m\u001b[0;32m    417\u001b[0m \u001b[1;33m\u001b[0m\u001b[0m\n\u001b[0;32m    418\u001b[0m     \u001b[1;32mdef\u001b[0m \u001b[0mforward\u001b[0m\u001b[1;33m(\u001b[0m\u001b[0mself\u001b[0m\u001b[1;33m,\u001b[0m \u001b[0minput\u001b[0m\u001b[1;33m:\u001b[0m \u001b[0mTensor\u001b[0m\u001b[1;33m)\u001b[0m \u001b[1;33m->\u001b[0m \u001b[0mTensor\u001b[0m\u001b[1;33m:\u001b[0m\u001b[1;33m\u001b[0m\u001b[1;33m\u001b[0m\u001b[0m\n",
      "\u001b[1;31mTypeError\u001b[0m: conv2d(): argument 'input' (position 1) must be Tensor, not ReLU"
     ]
    }
   ],
   "source": [
    "model = Net().to(device)\n",
    "\n",
    "## Define Adam Optimiser with a learning rate of 0.01\n",
    "optimizer = torch.optim.Adam(model.parameters(),lr=0.01)\n",
    "\n",
    "start = timeit.default_timer()\n",
    "for epoch in range(1, 11):\n",
    "    train(model, device, train_dataloader, optimizer, epoch)\n",
    "    test(model, device, test_dataloader)\n",
    "stop = timeit.default_timer()\n",
    "print('Total time taken: {} seconds'.format(int(stop - start)) )"
   ]
  },
  {
   "cell_type": "markdown",
   "metadata": {
    "id": "TV3DSN3v0NBN"
   },
   "source": [
    "### Question 5\n",
    "\n",
    "Modify the network to replace ReLU activations with Sigmoid and report the final test accuracy by running the cell below. (If you are not getting the exact number shown in options, please report the closest number). \n",
    "\n",
    "1. 95%\n",
    "2. 54%\n",
    "3. 20%\n",
    "4. 9%"
   ]
  },
  {
   "cell_type": "code",
   "execution_count": null,
   "metadata": {
    "id": "t-2mgA4T0KeU"
   },
   "outputs": [],
   "source": [
    "class NetSigmoid(nn.Module):\n",
    "    def __init__(self):\n",
    "        super(NetSigmoid, self).__init__()\n",
    "        #### YOUR CODE STARTS HERE ####\n",
    "        # define a conv layer with output channels as 16, kernel size of 3 and stride of 1\n",
    "        self.conv1 =\n",
    "        # define a conv layer with output channels as 32, kernel size of 3 and stride of 1\n",
    "        self.conv2 = \n",
    "        # define a conv layer with output channels as 64, kernel size of 3 and stride of 1\n",
    "        self.conv3 =\n",
    "        # define dropout layer with a probability of 0.25\n",
    "        self.dropout1 = \n",
    "        # define dropout layer with a probability of 0.5\n",
    "        self.dropout2 = \n",
    "        # define a linear(dense) layer with 128 output features\n",
    "        self.fc1 = \n",
    "        # define a linear(dense) layer with output features corresponding to the number of classes in the dataset\n",
    "        self.fc2 = \n",
    "        #### YOUR CODE ENDS HERE ####\n",
    "\n",
    "    def forward(self, x):\n",
    "        # Use the layers defined above in a sequential way (folow the same as the layer definitions above) and \n",
    "        # write the forward pass, after each of conv1, conv2, conv3 and fc1 use a relu activation. \n",
    "        #### YOUR CODE STARTS HERE ####\n",
    "        x = \n",
    "        #### YOUR CODE ENDS HERE ####\n",
    "        output = F.log_softmax(x, dim=1)\n",
    "        return output"
   ]
  },
  {
   "cell_type": "code",
   "execution_count": null,
   "metadata": {
    "id": "W0oZc3cTxJ90"
   },
   "outputs": [],
   "source": [
    "model = NetSigmoid().to(device)\n",
    "\n",
    "## Define Adam Optimiser with a learning rate of 0.01\n",
    "optimizer = \n",
    "\n",
    "start = timeit.default_timer()\n",
    "\n",
    "for epoch in range(1, 11):\n",
    "    train(model, device, train_dataloader, optimizer, epoch)\n",
    "    test(model, device, test_dataloader)\n",
    "\n",
    "stop = timeit.default_timer()\n",
    "print('Total time taken: {} seconds'.format(int(stop - start)) )"
   ]
  },
  {
   "cell_type": "markdown",
   "metadata": {
    "id": "lurbs-F35AqX"
   },
   "source": [
    "### Question 6\n",
    "\n",
    "Train the network defined in Question-1 with Adagrad optimizer (with the same learning rate). Report the final test accuracy by running the cell below. (If you are not getting the exact number shown in options, please report the closest number). \n",
    "\n",
    "1. 80%\n",
    "2. 99%\n",
    "3. 92%\n",
    "4. 85%"
   ]
  },
  {
   "cell_type": "code",
   "execution_count": null,
   "metadata": {
    "id": "cuddf3Tb5Oi6"
   },
   "outputs": [],
   "source": [
    "model = Net().to(device)\n",
    "\n",
    "## Define Adam Optimiser with a learning rate of 0.01\n",
    "optimizer = \n",
    "\n",
    "start = timeit.default_timer()\n",
    "\n",
    "for epoch in range(1, 11):\n",
    "    train(model, device, train_dataloader, optimizer, epoch)\n",
    "    test(model, device, test_dataloader)\n",
    "\n",
    "stop = timeit.default_timer()\n",
    "print('Total time taken: {} seconds'.format(int(stop - start)) )"
   ]
  },
  {
   "cell_type": "code",
   "execution_count": null,
   "metadata": {
    "id": "qXfhHoS3siEi"
   },
   "outputs": [],
   "source": []
  },
  {
   "cell_type": "markdown",
   "metadata": {
    "id": "m34pGNerYmld"
   },
   "source": [
    "### Question 7\n",
    "\n",
    "Initialize the `Conv2d` layers in the network defined in Question-1 `(Net)` with all ones (both weights and bias). Train the network with Adam optimizer and report the final test accuracy by running the cell below. (If you are not getting the exact number shown in options, please report the closest number). \n",
    "\n",
    "1. 11%\n",
    "2. 18%\n",
    "3. 97%\n",
    "4. 6%"
   ]
  },
  {
   "cell_type": "code",
   "execution_count": null,
   "metadata": {
    "id": "GsHOjQA_Ylzj"
   },
   "outputs": [],
   "source": [
    "model = Net().to(device)\n",
    "\n",
    "def init_weights(m):\n",
    "  #### YOUR CODE STARTS HERE ####\n",
    "  pass\n",
    "  #### YOUR CODE ENDS HERE ####\n",
    "  \n",
    "\n",
    "model.apply(init_weights)  \n",
    "## Define Adam Optimiser with a learning rate of 0.01\n",
    "optimizer = \n",
    "\n",
    "start = timeit.default_timer()\n",
    "\n",
    "for epoch in range(1, 5):\n",
    "    train(model, device, train_dataloader, optimizer, epoch)\n",
    "    test(model, device, test_dataloader)\n",
    "\n",
    "stop = timeit.default_timer()\n",
    "print('Total time taken: {} seconds'.format(int(stop - start)) )"
   ]
  },
  {
   "cell_type": "markdown",
   "metadata": {
    "id": "FHmX6YO_ay9n"
   },
   "source": [
    "### Question 8\n",
    "\n",
    "Initialize the network defined in Question-1 `(Net)` with Xavier's initialization ([torch.nn.init.xavier_normal](https://pytorch.org/docs/stable/nn.init.html))(for bias use zero). Train the network with Adam optimizer and report the final test accuracy by running the cell below. (If you are not getting the exact number shown in options, please report the closest number). \n",
    "\n",
    "\n",
    "1. 88%\n",
    "2. 74%\n",
    "3. 97%\n",
    "4. 80%"
   ]
  },
  {
   "cell_type": "code",
   "execution_count": null,
   "metadata": {
    "id": "ibfj8A9xZsEw"
   },
   "outputs": [],
   "source": [
    "model = Net().to(device)\n",
    "\n",
    "def init_weights(m):\n",
    "  #### YOUR CODE STARTS HERE ####\n",
    "  pass\n",
    "  #### YOUR CODE ENDS HERE #### \n",
    "\n",
    "model.apply(init_weights)  \n",
    "## Define Adam Optimiser with a learning rate of 0.01\n",
    "optimizer = \n",
    "\n",
    "start = timeit.default_timer()\n",
    "\n",
    "for epoch in range(1, 5):\n",
    "    train(model, device, train_dataloader, optimizer, epoch)\n",
    "    test(model, device, test_dataloader)\n",
    "\n",
    "stop = timeit.default_timer()\n",
    "print('Total time taken: {} seconds'.format(int(stop - start)) )"
   ]
  },
  {
   "cell_type": "markdown",
   "metadata": {
    "id": "C3OqBlnPe4LR"
   },
   "source": [
    "### Question 9\n",
    "\n",
    "Add three batch-norm layers to the network defined in `Question-1` and report the final test accuracy by running the cell below. \n",
    "\n",
    "1. 92%\n",
    "2. 89%\n",
    "3. 98%\n",
    "4. 74%"
   ]
  },
  {
   "cell_type": "code",
   "execution_count": null,
   "metadata": {
    "id": "j2sNY6Tge1EO"
   },
   "outputs": [],
   "source": [
    "class NetBatchNorm(nn.Module):\n",
    "    def __init__(self):\n",
    "        super(NetBatchNorm, self).__init__()\n",
    "        #### YOUR CODE STARTS HERE ####\n",
    "        # define a conv layer with output channels as 16, kernel size of 3 and stride of 1\n",
    "        \n",
    "        # define a batchnorm layer (2d) with 16 features\n",
    "        \n",
    "        # define a conv layer with output channels as 32, kernel size of 3 and stride of 1\n",
    "        \n",
    "        # define a batchnorm layer (2d) with 32 features\n",
    "        \n",
    "        # define a conv layer with output channels as 64, kernel size of 3 and stride of 1\n",
    "        \n",
    "        # define a batchnorm layer (2d) with 64 features\n",
    "       \n",
    "        # define dropout layer with a probability of 0.25\n",
    "        \n",
    "        # define dropout layer with a probability of 0.5\n",
    "        \n",
    "        # define a linear(dense) layer with 128 output features\n",
    "        \n",
    "        # self.bn1 = nn.BatchNorm2d(128)\n",
    "        # define a linear(dense) layer with output features corresponding to the number of classes in the dataset\n",
    "        \n",
    "        #### YOUR CODE ENDS HERE ####\n",
    "\n",
    "    def forward(self, x):\n",
    "        #### YOUR CODE STARTS HERE ####\n",
    "        x = \n",
    "        #### YOUR CODE ENDS HERE ####\n",
    "        output = F.log_softmax(x, dim=1)\n",
    "        return output"
   ]
  },
  {
   "cell_type": "code",
   "execution_count": null,
   "metadata": {
    "id": "pZ_-nFokSbSh"
   },
   "outputs": [],
   "source": [
    "model = NetBatchNorm().to(device)\n",
    "# If you implemented the batchnorm layers correctly below line should return true\n",
    "sum(p.numel() for p in model.parameters()) == 1016170"
   ]
  },
  {
   "cell_type": "code",
   "execution_count": null,
   "metadata": {
    "id": "3hmkY3j-hFWC"
   },
   "outputs": [],
   "source": [
    "\n",
    "\n",
    "## Define Adam Optimiser with a learning rate of 0.01\n",
    "optimizer = \n",
    "\n",
    "start = timeit.default_timer()\n",
    "for epoch in range(1, 11):\n",
    "    train(model, device, train_dataloader, optimizer, epoch)\n",
    "    test(model, device, test_dataloader)\n",
    "stop = timeit.default_timer()\n",
    "print('Total time taken: {} seconds'.format(int(stop - start)) )"
   ]
  },
  {
   "cell_type": "markdown",
   "metadata": {
    "id": "uLjR0rM3nFnq"
   },
   "source": [
    "# Part-3"
   ]
  },
  {
   "cell_type": "markdown",
   "metadata": {
    "id": "KxogDSnVqcjO"
   },
   "source": [
    "This section is un-graded and purely for practice. \n",
    "\n",
    "Main focus of this part is to help you flex the deep learning muscles built in the above part. You should build a network on the [SVHN dataset](http://ufldl.stanford.edu/housenumbers/). This dataset is similar to MNIST but unlike MNIST, the images are colored and more complex. \n",
    "\n",
    "As of writing this, the state-of-the-art(SoTA) performance on this dataset is 98.98%. You can try to start with the simple network we defined above for the MNSIT dataset(with some modification for dealing with different sized colored images unlike MNIST). But to achive the SoTA performance you need to do a lot of hackery. These are list of few things, we would encourage you to try: \n",
    "\n",
    "- Use data augmentation wisely. Read and understand how to perform the augmentations listed below. \n",
    "    * RandomFlips, Color Jittering\n",
    "    * Cutout, Cutmix\n",
    "    * Mixup\n",
    "    * Auto-augment\n",
    "\n",
    "- Try to increase the image size using standard image interpolation techniques. Try using tricks like Progressive resizing of images and see if it helps. \n",
    "\n",
    "- After certain number of layers, adding more layer might not be of much help, run experiments on SVHN and see if you observe this. \n",
    "\n",
    "- To understand the difficulties in training deeper networks read this paper: [Deep Residual Learning for Image Recognition](https://arxiv.org/abs/1512.03385)\n",
    "\n",
    "- To improve the performance on SVHN, try using architectures like [ResNet](https://arxiv.org/abs/1512.03385), [DesnseNet](https://arxiv.org/abs/1608.06993) or [EfficientNet](https://arxiv.org/abs/1905.11946). Most of these architectures are available by default in PyTorch.\n"
   ]
  }
 ],
 "metadata": {
  "accelerator": "GPU",
  "colab": {
   "collapsed_sections": [],
   "name": "DL4V_Assignment_2.ipynb",
   "provenance": []
  },
  "kernelspec": {
   "display_name": "carnd-gpu1",
   "language": "python",
   "name": "carnd-gpu1"
  },
  "language_info": {
   "codemirror_mode": {
    "name": "ipython",
    "version": 3
   },
   "file_extension": ".py",
   "mimetype": "text/x-python",
   "name": "python",
   "nbconvert_exporter": "python",
   "pygments_lexer": "ipython3",
   "version": "3.7.9"
  }
 },
 "nbformat": 4,
 "nbformat_minor": 1
}
